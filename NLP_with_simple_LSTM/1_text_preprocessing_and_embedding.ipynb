{
 "cells": [
  {
   "cell_type": "markdown",
   "metadata": {},
   "source": [
    "# Text Processing and Word Embeddings\n",
    "\n",
    "Welcome to this new exercise! In this exercise, we will play around with text instead of images as before, using Recurrent Neural Networks. Generally it is called Natural Language Processing (NLP) when dealing with text, speech, etc. But the data structure is very different to images, i.e. text is string instead of numbers in images. So we need some preprocessing steps to transform raw text to other data format. And this notebook will introduce these basic concepts in NLP pipelines. Specifically, you will learn about:\n",
    "\n",
    "1. How to preprocess text classification datasets\n",
    "2. How to create a simple word embedding layer that maps words to dense vectors"
   ]
  },
  {
   "cell_type": "markdown",
   "metadata": {},
   "source": [
    "# 0. Setup\n",
    "\n",
    "As usual, we first import some packages to setup this notebook."
   ]
  },
  {
   "cell_type": "code",
   "execution_count": 1,
   "metadata": {},
   "outputs": [],
   "source": [
    "import os\n",
    "import torch\n",
    "import matplotlib.pyplot as plt\n",
    "from torch.utils.data import DataLoader\n",
    "\n",
    "from exercise_code.rnn.sentiment_dataset import (\n",
    "    create_dummy_data,\n",
    "    download_data\n",
    ")\n",
    "\n",
    "%matplotlib inline\n",
    "plt.rcParams['figure.figsize'] = (10.0, 8.0) # set default size of plots\n",
    "plt.rcParams['image.interpolation'] = 'nearest'\n",
    "plt.rcParams['image.cmap'] = 'gray'\n",
    "\n",
    "# for auto-reloading external modules\n",
    "# see http://stackoverflow.com/questions/1907993/autoreload-of-modules-in-ipython\n",
    "%load_ext autoreload\n",
    "%autoreload 2"
   ]
  },
  {
   "cell_type": "markdown",
   "metadata": {},
   "source": [
    "# 1. Preprocessing a Text Classification Dataset\n",
    "\n",
    "As a starting point, let's load a dummy text classification dataset and have a sense how it looks like. We take these samples from the IMDb movie review dataset, which includes movie reviews and labels that show whether they are negative (0) or positive (1). You will investigate this task further in the second notebook.\n",
    "\n",
    "In this section, our goal is to create a text processing dataset. You are not required to write any code in this section. However, the concept introduced here is very important for working on NLP datasets in the future as well as in the rest of this exercise. So take your time to understand the procedure here. :)\n",
    "\n",
    "First, let us download the data and take a look at some data samples."
   ]
  },
  {
   "cell_type": "code",
   "execution_count": 2,
   "metadata": {},
   "outputs": [
    {
     "name": "stderr",
     "output_type": "stream",
     "text": [
      "  0%|          | 0/3772493 [00:00<?, ?it/s]"
     ]
    },
    {
     "name": "stdout",
     "output_type": "stream",
     "text": [
      "Downloading https://vision.in.tum.de/webshare/g/i2dl/SentimentData.zip to C:\\Users\\asus\\Desktop\\Deep-Learning\\datasets\\SentimentData\\SentimentData.zip\n"
     ]
    },
    {
     "name": "stderr",
     "output_type": "stream",
     "text": [
      "3776512it [00:01, 3391740.68it/s]                             \n"
     ]
    },
    {
     "name": "stdout",
     "output_type": "stream",
     "text": [
      "Text: Obviously written for the stage. Lightweight but worthwhile. How can you go wrong with Ralph Richardson, Olivier and Merle Oberon.\n",
      "Label: 1\n",
      "\n",
      "Text: This is the definitive movie version of Hamlet. Branagh cuts nothing, but there are no wasted moments.\n",
      "Label: 1\n",
      "\n",
      "Text: Smallville episode Justice is the best episode of Smallville ! ! ! ! ! ! ! ! ! ! ! ! ! ! ! ! ! ! ! ! ! ! ! ! ! ! ! ! ! ! ! ! ! ! ! ! ! ! ! ! ! ! ! ! ! ! ! ! ! ! ! ! ! ! ! ! ! ! ! ! ! ! ! ! ! ! ! ! ! ! ! ! ! ! ! ! ! ! ! ! ! ! ! ! ! ! ! ! ! ! ! ! ! ! ! ! ! ! ! ! ! ! ! ! ! ! ! ! ! ! ! ! ! ! ! ! ! ! ! ! ! ! ! ! ! ! ! ! ! ! ! ! ! ! ! ! ! ! ! ! ! ! ! ! It's my favorite episode of Smallville! ! ! ! ! ! ! ! ! ! ! ! ! ! ! ! ! ! ! ! ! ! ! ! ! ! ! ! ! ! ! ! ! ! ! ! ! ! ! ! ! ! ! ! ! ! ! ! ! ! ! ! ! ! ! ! ! ! ! ! ! ! ! ! ! ! ! ! ! ! ! ! ! ! ! ! ! ! ! ! ! ! ! ! ! ! ! ! ! ! ! ! ! ! ! ! ! ! ! ! ! ! ! ! ! ! ! ! ! ! ! ! ! ! ! ! ! ! ! ! ! ! ! ! ! ! ! ! ! ! ! ! ! ! ! ! ! !\n",
      "Label: 1\n",
      "\n",
      "Text: Great movie - especially the music - Etta James - \"At Last\". This speaks volumes when you have finally found that special someone.\n",
      "Label: 0\n",
      "\n",
      "Text: Comment this movie is impossible. Is terrible, very improbable, bad interpretation e direction. Not look!!!!!\n",
      "Label: 0\n",
      "\n",
      "Text: A rating of \"1\" does not begin to express how dull, depressing and relentlessly bad this movie is.\n",
      "Label: 0\n",
      "\n"
     ]
    }
   ],
   "source": [
    "i2dl_exercises_path = os.path.dirname(os.path.abspath(os.getcwd()))\n",
    "data_root = os.path.join(i2dl_exercises_path, \"datasets\", \"SentimentData\")\n",
    "path = download_data(data_root)\n",
    "data = create_dummy_data(path)\n",
    "for text, label in data:\n",
    "    print('Text: {}'.format(text))\n",
    "    print('Label: {}'.format(label))\n",
    "    print()"
   ]
  },
  {
   "cell_type": "markdown",
   "metadata": {},
   "source": [
    "## 1.1 Tokenizing Data\n",
    "\n",
    "As seen above, we loaded 3 positive and 3 negative reviews. Since the basic semantic unit of text is word, the first thing we need to do is **tokenizing** the dataset, which means converting each review to a list of words."
   ]
  },
  {
   "cell_type": "code",
   "execution_count": 3,
   "metadata": {},
   "outputs": [
    {
     "name": "stdout",
     "output_type": "stream",
     "text": [
      "(['obviously', 'written', 'for', 'the', 'stage', 'lightweight', 'but', 'worthwhile', 'how', 'can', 'you', 'go', 'wrong', 'with', 'ralph', 'richardson', 'olivier', 'and', 'merle', 'oberon'], 1) \n",
      "\n",
      "(['this', 'is', 'the', 'definitive', 'movie', 'version', 'of', 'hamlet', 'branagh', 'cuts', 'nothing', 'but', 'there', 'are', 'no', 'wasted', 'moments'], 1) \n",
      "\n",
      "(['smallville', 'episode', 'justice', 'is', 'the', 'best', 'episode', 'of', 'smallville', 'it', 's', 'my', 'favorite', 'episode', 'of', 'smallville'], 1) \n",
      "\n",
      "(['great', 'movie', 'especially', 'the', 'music', 'etta', 'james', 'at', 'last', 'this', 'speaks', 'volumes', 'when', 'you', 'have', 'finally', 'found', 'that', 'special', 'someone'], 0) \n",
      "\n",
      "(['comment', 'this', 'movie', 'is', 'impossible', 'is', 'terrible', 'very', 'improbable', 'bad', 'interpretation', 'e', 'direction', 'not', 'look'], 0) \n",
      "\n",
      "(['a', 'rating', 'of', '1', 'does', 'not', 'begin', 'to', 'express', 'how', 'dull', 'depressing', 'and', 'relentlessly', 'bad', 'this', 'movie', 'is'], 0) \n",
      "\n"
     ]
    }
   ],
   "source": [
    "import re\n",
    "\n",
    "# use regular expression to split the sentence\n",
    "# check https://docs.python.org/3/library/re.html for more information\n",
    "def tokenize(text):\n",
    "    return [s.lower() for s in re.split(r'\\W+', text) if len(s) > 0]\n",
    "\n",
    "tokenized_data = []\n",
    "for text, label in data:\n",
    "    tokenized_data.append((tokenize(text), label))\n",
    "    print(tokenized_data[-1], '\\n')"
   ]
  },
  {
   "cell_type": "code",
   "execution_count": 4,
   "metadata": {},
   "outputs": [],
   "source": [
    "#tokenized_data"
   ]
  },
  {
   "cell_type": "markdown",
   "metadata": {},
   "source": [
    "## 1.2 Creating a Vocabulary\n",
    "\n",
    "We have converted the dataset into pairs of token lists and corresponding labels. But strings have variant length and are less easy for handling. It would be nice to represent words with numbers. So, we need to create a <b>vocabulary</b>, which is a dictionary that maps each word to an integer id.\n",
    "\n",
    "In large datasets, there are too many words and most of them don't occur very frequently. One common approach we use to tackle this problem is to pick most common N words from the dataset. Therefore, we restrict the number of words.\n",
    "\n",
    "Let's first compute the word frequencies in our dummy dataset. To compute frequencies, we use the [Counter](https://docs.python.org/3/library/collections.html#collections.Counter) data structure."
   ]
  },
  {
   "cell_type": "code",
   "execution_count": 5,
   "metadata": {},
   "outputs": [
    {
     "data": {
      "text/plain": [
       "Counter({'obviously': 1,\n",
       "         'written': 1,\n",
       "         'for': 1,\n",
       "         'the': 4,\n",
       "         'stage': 1,\n",
       "         'lightweight': 1,\n",
       "         'but': 2,\n",
       "         'worthwhile': 1,\n",
       "         'how': 2,\n",
       "         'can': 1,\n",
       "         'you': 2,\n",
       "         'go': 1,\n",
       "         'wrong': 1,\n",
       "         'with': 1,\n",
       "         'ralph': 1,\n",
       "         'richardson': 1,\n",
       "         'olivier': 1,\n",
       "         'and': 2,\n",
       "         'merle': 1,\n",
       "         'oberon': 1,\n",
       "         'this': 4,\n",
       "         'is': 5,\n",
       "         'definitive': 1,\n",
       "         'movie': 4,\n",
       "         'version': 1,\n",
       "         'of': 4,\n",
       "         'hamlet': 1,\n",
       "         'branagh': 1,\n",
       "         'cuts': 1,\n",
       "         'nothing': 1,\n",
       "         'there': 1,\n",
       "         'are': 1,\n",
       "         'no': 1,\n",
       "         'wasted': 1,\n",
       "         'moments': 1,\n",
       "         'smallville': 3,\n",
       "         'episode': 3,\n",
       "         'justice': 1,\n",
       "         'best': 1,\n",
       "         'it': 1,\n",
       "         's': 1,\n",
       "         'my': 1,\n",
       "         'favorite': 1,\n",
       "         'great': 1,\n",
       "         'especially': 1,\n",
       "         'music': 1,\n",
       "         'etta': 1,\n",
       "         'james': 1,\n",
       "         'at': 1,\n",
       "         'last': 1,\n",
       "         'speaks': 1,\n",
       "         'volumes': 1,\n",
       "         'when': 1,\n",
       "         'have': 1,\n",
       "         'finally': 1,\n",
       "         'found': 1,\n",
       "         'that': 1,\n",
       "         'special': 1,\n",
       "         'someone': 1,\n",
       "         'comment': 1,\n",
       "         'impossible': 1,\n",
       "         'terrible': 1,\n",
       "         'very': 1,\n",
       "         'improbable': 1,\n",
       "         'bad': 2,\n",
       "         'interpretation': 1,\n",
       "         'e': 1,\n",
       "         'direction': 1,\n",
       "         'not': 2,\n",
       "         'look': 1,\n",
       "         'a': 1,\n",
       "         'rating': 1,\n",
       "         '1': 1,\n",
       "         'does': 1,\n",
       "         'begin': 1,\n",
       "         'to': 1,\n",
       "         'express': 1,\n",
       "         'dull': 1,\n",
       "         'depressing': 1,\n",
       "         'relentlessly': 1})"
      ]
     },
     "execution_count": 5,
     "metadata": {},
     "output_type": "execute_result"
    }
   ],
   "source": [
    "from collections import Counter\n",
    "\n",
    "freqs = Counter()\n",
    "for tokens, _ in tokenized_data:\n",
    "    freqs.update(tokens)\n",
    "\n",
    "freqs"
   ]
  },
  {
   "cell_type": "markdown",
   "metadata": {},
   "source": [
    "To create the dictionary, let's select the most common 20 words to create a vocabulary. In addition to the words that appear in our data, we need to have two special words:\n",
    "\n",
    "- `<eos>` End of sequence symbol used for padding\n",
    "- `<unk>` Words unknown in our vocabulary"
   ]
  },
  {
   "cell_type": "code",
   "execution_count": 6,
   "metadata": {},
   "outputs": [
    {
     "data": {
      "text/plain": [
       "{'<eos>': 0,\n",
       " '<unk>': 1,\n",
       " 'is': 2,\n",
       " 'the': 3,\n",
       " 'this': 4,\n",
       " 'movie': 5,\n",
       " 'of': 6,\n",
       " 'smallville': 7,\n",
       " 'episode': 8,\n",
       " 'but': 9,\n",
       " 'how': 10,\n",
       " 'you': 11,\n",
       " 'and': 12,\n",
       " 'bad': 13,\n",
       " 'not': 14,\n",
       " 'obviously': 15,\n",
       " 'written': 16,\n",
       " 'for': 17,\n",
       " 'stage': 18,\n",
       " 'lightweight': 19,\n",
       " 'worthwhile': 20,\n",
       " 'can': 21}"
      ]
     },
     "execution_count": 6,
     "metadata": {},
     "output_type": "execute_result"
    }
   ],
   "source": [
    "vocab = {'<eos>': 0, '<unk>': 1}\n",
    "for token, freq in freqs.most_common(20):\n",
    "    vocab[token] = len(vocab)\n",
    "vocab"
   ]
  },
  {
   "cell_type": "markdown",
   "metadata": {},
   "source": [
    "## 1.3 Creating the Dataset\n",
    "\n",
    "Putting it all together, we can now create a dataset class. First, let's create index-label pairs:"
   ]
  },
  {
   "cell_type": "code",
   "execution_count": 7,
   "metadata": {},
   "outputs": [
    {
     "name": "stdout",
     "output_type": "stream",
     "text": [
      "[15, 16, 17, 3, 18, 19, 9, 20, 10, 21, 11, 1, 1, 1, 1, 1, 1, 12, 1, 1]  ->  1\n",
      "\n",
      "[4, 2, 3, 1, 5, 1, 6, 1, 1, 1, 1, 9, 1, 1, 1, 1, 1]  ->  1\n",
      "\n",
      "[7, 8, 1, 2, 3, 1, 8, 6, 7, 1, 1, 1, 1, 8, 6, 7]  ->  1\n",
      "\n",
      "[1, 5, 1, 3, 1, 1, 1, 1, 1, 4, 1, 1, 1, 11, 1, 1, 1, 1, 1, 1]  ->  0\n",
      "\n",
      "[1, 4, 5, 2, 1, 2, 1, 1, 1, 13, 1, 1, 1, 14, 1]  ->  0\n",
      "\n",
      "[1, 1, 6, 1, 1, 14, 1, 1, 1, 10, 1, 1, 12, 1, 13, 4, 5, 2]  ->  0\n",
      "\n"
     ]
    }
   ],
   "source": [
    "indexed_data = []\n",
    "for tokens, label in tokenized_data:\n",
    "    indices = [vocab.get(token, vocab['<unk>']) for token in tokens]    \n",
    "    # the token that is not in vocab get assigned <unk>\n",
    "    indexed_data.append((indices, label))\n",
    "    \n",
    "\n",
    "for indices, label in indexed_data:\n",
    "    print(indices, ' -> ', label)\n",
    "    print()"
   ]
  },
  {
   "cell_type": "markdown",
   "metadata": {},
   "source": [
    "<div class=\"alert alert-success\"> \n",
    "    <h3>Task: Check Code</h3>\n",
    "    <p>We now use the PyTorch dataset class we provided in <code>exercise_code/rnn/sentiment_dataset.py</code> file. Please also take a look at the code.</p>\n",
    " </div>\n",
    "    \n",
    "\n",
    "\n",
    "Dataset class also reverse sorts the sequences with respect to the lengths. Thanks to this sorting, we can reduce the total number of padded elements, which means that we have less computations for padded values."
   ]
  },
  {
   "cell_type": "code",
   "execution_count": 8,
   "metadata": {},
   "outputs": [
    {
     "name": "stdout",
     "output_type": "stream",
     "text": [
      "{'data': tensor([15, 16, 17,  3, 18, 19,  9, 20, 10, 21, 11,  1,  1,  1,  1,  1,  1, 12,\n",
      "         1,  1]), 'label': tensor(1.)}\n",
      "\n",
      "{'data': tensor([ 1,  5,  1,  3,  1,  1,  1,  1,  1,  4,  1,  1,  1, 11,  1,  1,  1,  1,\n",
      "         1,  1]), 'label': tensor(0.)}\n",
      "\n",
      "{'data': tensor([ 1,  1,  6,  1,  1, 14,  1,  1,  1, 10,  1,  1, 12,  1, 13,  4,  5,  2]), 'label': tensor(0.)}\n",
      "\n",
      "{'data': tensor([4, 2, 3, 1, 5, 1, 6, 1, 1, 1, 1, 9, 1, 1, 1, 1, 1]), 'label': tensor(1.)}\n",
      "\n",
      "{'data': tensor([7, 8, 1, 2, 3, 1, 8, 6, 7, 1, 1, 1, 1, 8, 6, 7]), 'label': tensor(1.)}\n",
      "\n",
      "{'data': tensor([ 1,  4,  5,  2,  1,  2,  1,  1,  1, 13,  1,  1,  1, 14,  1]), 'label': tensor(0.)}\n",
      "\n"
     ]
    }
   ],
   "source": [
    "from exercise_code.rnn.sentiment_dataset import SentimentDataset\n",
    "\n",
    "combined_data = [\n",
    "    (raw_text, tokens, indices, label)\n",
    "    for (raw_text, label), (tokens, _), (indices, _)\n",
    "    in zip(data, tokenized_data, indexed_data)\n",
    "]\n",
    "\n",
    "dataset = SentimentDataset(combined_data)\n",
    "\n",
    "for elem in dataset:\n",
    "    print(elem)\n",
    "    print()"
   ]
  },
  {
   "cell_type": "markdown",
   "metadata": {},
   "source": [
    "## 1.4 Minibatching\n",
    "Note that in the dataset we created, not all sequences have the same length. Therefore, we cannot minibatch the data trivially. This means we cannot use a `DataLoader` class easily.\n",
    "\n",
    "<b>If you uncomment the following cell and run it, you will very likely get an error!</b>"
   ]
  },
  {
   "cell_type": "code",
   "execution_count": 9,
   "metadata": {},
   "outputs": [],
   "source": [
    "#loader = DataLoader(dataset, batch_size=3)\n",
    "\n",
    "#for batch in loader:\n",
    "#     print(batch)"
   ]
  },
  {
   "cell_type": "markdown",
   "metadata": {},
   "source": [
    "<div class=\"alert alert-success\"> \n",
    "    <h3>Task: Check Code</h3>\n",
    "    <p>To solve the problem, we need to pad the sequences with <code> < eos > </code> tokens that we indexed as zero. To integrate this approach into the Pytorch <a href=\"https://pytorch.org/docs/stable/data.html#torch.utils.data.DataLoader\" target=\"_blank\">Dataloader</a> class, we will make use of the <code>collate_fn</code> argument. For more details, check out the <code>collate</code> function in <code>exercise_code/rnn/sentiment_dataset</code>. </p>\n",
    "    <p> In addition, we use the <a href=\"https://pytorch.org/docs/stable/generated/torch.nn.utils.rnn.pad_sequence.html\" target=\"_blank\">pad_sequence</a> that pads shorter sequences with 0. </p>\n",
    " </div>"
   ]
  },
  {
   "cell_type": "code",
   "execution_count": 10,
   "metadata": {},
   "outputs": [
    {
     "name": "stdout",
     "output_type": "stream",
     "text": [
      "Data: \n",
      " tensor([[15,  1,  1],\n",
      "        [16,  5,  1],\n",
      "        [17,  1,  6],\n",
      "        [ 3,  3,  1],\n",
      "        [18,  1,  1],\n",
      "        [19,  1, 14],\n",
      "        [ 9,  1,  1],\n",
      "        [20,  1,  1],\n",
      "        [10,  1,  1],\n",
      "        [21,  4, 10],\n",
      "        [11,  1,  1],\n",
      "        [ 1,  1,  1],\n",
      "        [ 1,  1, 12],\n",
      "        [ 1, 11,  1],\n",
      "        [ 1,  1, 13],\n",
      "        [ 1,  1,  4],\n",
      "        [ 1,  1,  5],\n",
      "        [12,  1,  2],\n",
      "        [ 1,  1,  0],\n",
      "        [ 1,  1,  0]])\n",
      "\n",
      "Labels: \n",
      " tensor([1., 0., 0.])\n",
      "\n",
      "Sequence Lengths: \n",
      " tensor([20, 20, 18])\n",
      "\n",
      "\n",
      "Data: \n",
      " tensor([[ 4,  7,  1],\n",
      "        [ 2,  8,  4],\n",
      "        [ 3,  1,  5],\n",
      "        [ 1,  2,  2],\n",
      "        [ 5,  3,  1],\n",
      "        [ 1,  1,  2],\n",
      "        [ 6,  8,  1],\n",
      "        [ 1,  6,  1],\n",
      "        [ 1,  7,  1],\n",
      "        [ 1,  1, 13],\n",
      "        [ 1,  1,  1],\n",
      "        [ 9,  1,  1],\n",
      "        [ 1,  1,  1],\n",
      "        [ 1,  8, 14],\n",
      "        [ 1,  6,  1],\n",
      "        [ 1,  7,  0],\n",
      "        [ 1,  0,  0]])\n",
      "\n",
      "Labels: \n",
      " tensor([1., 1., 0.])\n",
      "\n",
      "Sequence Lengths: \n",
      " tensor([17, 16, 15])\n",
      "\n",
      "\n"
     ]
    }
   ],
   "source": [
    "from torch.nn.utils.rnn import pad_sequence\n",
    "\n",
    "def collate(batch):\n",
    "    assert isinstance(batch, list)\n",
    "    data = pad_sequence([b['data'] for b in batch])\n",
    "    lengths = torch.tensor([len(b['data']) for b in batch])\n",
    "    label = torch.stack([b['label'] for b in batch])\n",
    "    return {\n",
    "        'data': data,\n",
    "        'label': label,\n",
    "        'lengths': lengths\n",
    "    }\n",
    "\n",
    "loader = DataLoader(dataset, batch_size=3, collate_fn=collate)\n",
    "for batch in loader:\n",
    "    #print(\"hi\")\n",
    "    print('Data: \\n', batch['data'])\n",
    "    print('\\nLabels: \\n', batch['label'])\n",
    "    print('\\nSequence Lengths: \\n', batch['lengths'])\n",
    "    print('\\n')"
   ]
  },
  {
   "cell_type": "markdown",
   "metadata": {},
   "source": [
    "We can see that these two batches have different length, this is how the reverse sort mentioned in `1.3 Creating the Dataset` benefits for less memory and less computation."
   ]
  },
  {
   "cell_type": "markdown",
   "metadata": {},
   "source": [
    "# 2. Embeddings\n",
    "\n",
    "In the previous section, we explored how to convert text into a sequence of integers. In this form, sequences are still not ready to be inputs of RNNs you implemented in the optional notebook. Integer representation is some kind of one-hot encoding, while not the same since they are not equally weighted given only an integer. \n",
    "\n",
    "Moreover, it fails to express the semantic relations between words and the order of the words has no meaning. We would like a better representation form to keep semantic meaning of the word. For example, as shown in the following picture, the difference between man and woman and difference between king and queen should be close, since the difference is only the gender. If we use a vector for each word, the above relation can be expressed as $vec(\\text{women})-vec(\\text{man}) \\approx vec(\\text{queen}) - vec(\\text{king})$. Usually we call such vector representations as embeddings.\n",
    "\n",
    "<img src='https://developers.google.com/machine-learning/crash-course/images/linear-relationships.svg' width=80% height=80%/>\n",
    "\n",
    "While one can use pre-trained embedding vectors such as [word2vec](https://arxiv.org/abs/1301.3781) or [GLoVe](https://nlp.stanford.edu/projects/glove/), in this exercise we use randomly initialized embedding vectors that will be trained from scratch together with our networks."
   ]
  },
  {
   "cell_type": "markdown",
   "metadata": {},
   "source": [
    "<div class=\"alert alert-info\">\n",
    "\n",
    "<h3> Task: Implement Embedding</h3>\n",
    " <p>In this part, you will implement a simple embedding layer. Embedding is a simple lookup table that stores a dense vector to represent each word in the vocabulary.</p> \n",
    "\n",
    " <p>Your task is to implement the <code>Embedding</code> class in <code>exercise_code.rnn.rnn_nn</code> file. Once you are done, run the below cell to test your implementation. Note that we ensure eos embeddings to be zero by using the <code>padding_idx</code> argument.\n",
    "\n",
    " </div>"
   ]
  },
  {
   "cell_type": "code",
   "execution_count": 11,
   "metadata": {},
   "outputs": [
    {
     "name": "stdout",
     "output_type": "stream",
     "text": [
      "weight: torch.Size([22, 16])\n",
      "inputs: torch.Size([20, 6])\n",
      "embeddings: torch.Size([20, 6, 16])\n",
      "Difference between outputs: 0.0\n",
      "Test passed :)!\n"
     ]
    },
    {
     "data": {
      "text/plain": [
       "True"
      ]
     },
     "execution_count": 11,
     "metadata": {},
     "output_type": "execute_result"
    }
   ],
   "source": [
    "import torch.nn as nn\n",
    "\n",
    "from exercise_code.rnn.rnn_nn import Embedding\n",
    "from exercise_code.rnn.tests import embedding_output_test\n",
    "\n",
    "#print(len(vocab))\n",
    "\n",
    "i2dl_embedding = Embedding(len(vocab), 16, padding_idx=0)\n",
    "pytorch_embedding = nn.Embedding(len(vocab), 16, padding_idx=0)\n",
    "\n",
    "loader = DataLoader(dataset, batch_size=len(dataset), collate_fn=collate)\n",
    "for batch in loader:\n",
    "    x = batch['data']\n",
    "\n",
    "embedding_output_test(i2dl_embedding, pytorch_embedding, x)\n"
   ]
  },
  {
   "cell_type": "markdown",
   "metadata": {},
   "source": [
    "# 3. Conclusion\n",
    "\n",
    "In this notebook, you learned how to prepare text data and how to create an embedding layer. In the next notebook, you will combine your Embedding and RNN implementations to create a sentiment analysis network!"
   ]
  },
  {
   "cell_type": "code",
   "execution_count": null,
   "metadata": {},
   "outputs": [],
   "source": []
  }
 ],
 "metadata": {
  "kernelspec": {
   "display_name": "Python 3",
   "language": "python",
   "name": "python3"
  },
  "language_info": {
   "codemirror_mode": {
    "name": "ipython",
    "version": 3
   },
   "file_extension": ".py",
   "mimetype": "text/x-python",
   "name": "python",
   "nbconvert_exporter": "python",
   "pygments_lexer": "ipython3",
   "version": "3.7.9"
  }
 },
 "nbformat": 4,
 "nbformat_minor": 4
}

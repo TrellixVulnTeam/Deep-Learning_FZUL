{
 "cells": [
  {
   "cell_type": "markdown",
   "metadata": {},
   "source": [
    "# Text Processing and Word Embeddings\n",
    "\n",
    "Welcome to this new exercise! In this exercise, we will play around with text instead of images as before, using Recurrent Neural Networks. Generally it is called Natural Language Processing (NLP) when dealing with text, speech, etc. But the data structure is very different to images, i.e. text is string instead of numbers in images. So we need some preprocessing steps to transform raw text to other data format. And this notebook will introduce these basic concepts in NLP pipelines. Specifically, you will learn about:\n",
    "\n",
    "1. How to preprocess text classification datasets\n",
    "2. How to create a simple word embedding layer that maps words to dense vectors"
   ]
  },
  {
   "cell_type": "markdown",
   "metadata": {},
   "source": [
    "# 0. Setup\n",
    "\n",
    "As usual, we first import some packages to setup this notebook."
   ]
  },
  {
   "cell_type": "code",
   "execution_count": 1,
   "metadata": {},
   "outputs": [],
   "source": [
    "import os\n",
    "import torch\n",
    "import matplotlib.pyplot as plt\n",
    "from torch.utils.data import DataLoader\n",
    "\n",
    "from exercise_code.rnn.sentiment_dataset import (\n",
    "    create_dummy_data,\n",
    "    download_data\n",
    ")\n",
    "\n",
    "%matplotlib inline\n",
    "plt.rcParams['figure.figsize'] = (10.0, 8.0) # set default size of plots\n",
    "plt.rcParams['image.interpolation'] = 'nearest'\n",
    "plt.rcParams['image.cmap'] = 'gray'\n",
    "\n",
    "# for auto-reloading external modules\n",
    "# see http://stackoverflow.com/questions/1907993/autoreload-of-modules-in-ipython\n",
    "%load_ext autoreload\n",
    "%autoreload 2"
   ]
  },
  {
   "cell_type": "markdown",
   "metadata": {},
   "source": [
    "# 1. Preprocessing a Text Classification Dataset\n",
    "\n",
    "As a starting point, let's load a dummy text classification dataset and have a sense how it looks like. We take these samples from the IMDb movie review dataset, which includes movie reviews and labels that show whether they are negative (0) or positive (1). You will investigate this task further in the second notebook.\n",
    "\n",
    "In this section, our goal is to create a text processing dataset. You are not required to write any code in this section. However, the concept introduced here is very important for working on NLP datasets in the future as well as in the rest of this exercise. So take your time to understand the procedure here. :)\n",
    "\n",
    "First, let us download the data and take a look at some data samples."
   ]
  },
  {
   "cell_type": "code",
   "execution_count": 2,
   "metadata": {},
   "outputs": [
    {
     "name": "stderr",
     "output_type": "stream",
     "text": [
      "  0%|          | 0/3772493 [00:00<?, ?it/s]"
     ]
    },
    {
     "name": "stdout",
     "output_type": "stream",
     "text": [
      "Downloading https://vision.in.tum.de/webshare/g/i2dl/SentimentData.zip to C:\\Users\\asus\\Desktop\\datasets\\SentimentData\\SentimentData.zip\n"
     ]
    },
    {
     "name": "stderr",
     "output_type": "stream",
     "text": [
      "3776512it [00:01, 2006476.45it/s]                             \n"
     ]
    },
    {
     "name": "stdout",
     "output_type": "stream",
     "text": [
      "Text: I don't know why I like this movie so well, but I never get tired of watching it.\n",
      "Label: 1\n",
      "\n",
      "Text: Smallville episode Justice is the best episode of Smallville ! ! ! ! ! ! ! ! ! ! ! ! ! ! ! ! ! ! ! ! ! ! ! ! ! ! ! ! ! ! ! ! ! ! ! ! ! ! ! ! ! ! ! ! ! ! ! ! ! ! ! ! ! ! ! ! ! ! ! ! ! ! ! ! ! ! ! ! ! ! ! ! ! ! ! ! ! ! ! ! ! ! ! ! ! ! ! ! ! ! ! ! ! ! ! ! ! ! ! ! ! ! ! ! ! ! ! ! ! ! ! ! ! ! ! ! ! ! ! ! ! ! ! ! ! ! ! ! ! ! ! ! ! ! ! ! ! ! ! ! ! ! ! ! It's my favorite episode of Smallville! ! ! ! ! ! ! ! ! ! ! ! ! ! ! ! ! ! ! ! ! ! ! ! ! ! ! ! ! ! ! ! ! ! ! ! ! ! ! ! ! ! ! ! ! ! ! ! ! ! ! ! ! ! ! ! ! ! ! ! ! ! ! ! ! ! ! ! ! ! ! ! ! ! ! ! ! ! ! ! ! ! ! ! ! ! ! ! ! ! ! ! ! ! ! ! ! ! ! ! ! ! ! ! ! ! ! ! ! ! ! ! ! ! ! ! ! ! ! ! ! ! ! ! ! ! ! ! ! ! ! ! ! ! ! ! ! !\n",
      "Label: 1\n",
      "\n",
      "Text: Obviously written for the stage. Lightweight but worthwhile. How can you go wrong with Ralph Richardson, Olivier and Merle Oberon.\n",
      "Label: 1\n",
      "\n",
      "Text: I wouldn't rent this one even on dollar rental night.\n",
      "Label: 0\n",
      "\n",
      "Text: Long, boring, blasphemous. Never have I been so glad to see ending credits roll.\n",
      "Label: 0\n",
      "\n",
      "Text: Ming The Merciless does a little Bardwork and a movie most foul!\n",
      "Label: 0\n",
      "\n"
     ]
    }
   ],
   "source": [
    "i2dl_exercises_path = os.path.dirname(os.path.abspath(os.getcwd()))\n",
    "data_root = os.path.join(i2dl_exercises_path, \"datasets\", \"SentimentData\")\n",
    "path = download_data(data_root)\n",
    "data = create_dummy_data(path)\n",
    "for text, label in data:\n",
    "    print('Text: {}'.format(text))\n",
    "    print('Label: {}'.format(label))\n",
    "    print()"
   ]
  },
  {
   "cell_type": "markdown",
   "metadata": {},
   "source": [
    "## 1.1 Tokenizing Data\n",
    "\n",
    "As seen above, we loaded 3 positive and 3 negative reviews. Since the basic semantic unit of text is word, the first thing we need to do is **tokenizing** the dataset, which means converting each review to a list of words."
   ]
  },
  {
   "cell_type": "code",
   "execution_count": 3,
   "metadata": {},
   "outputs": [
    {
     "name": "stdout",
     "output_type": "stream",
     "text": [
      "(['i', 'don', 't', 'know', 'why', 'i', 'like', 'this', 'movie', 'so', 'well', 'but', 'i', 'never', 'get', 'tired', 'of', 'watching', 'it'], 1) \n",
      "\n",
      "(['smallville', 'episode', 'justice', 'is', 'the', 'best', 'episode', 'of', 'smallville', 'it', 's', 'my', 'favorite', 'episode', 'of', 'smallville'], 1) \n",
      "\n",
      "(['obviously', 'written', 'for', 'the', 'stage', 'lightweight', 'but', 'worthwhile', 'how', 'can', 'you', 'go', 'wrong', 'with', 'ralph', 'richardson', 'olivier', 'and', 'merle', 'oberon'], 1) \n",
      "\n",
      "(['i', 'wouldn', 't', 'rent', 'this', 'one', 'even', 'on', 'dollar', 'rental', 'night'], 0) \n",
      "\n",
      "(['long', 'boring', 'blasphemous', 'never', 'have', 'i', 'been', 'so', 'glad', 'to', 'see', 'ending', 'credits', 'roll'], 0) \n",
      "\n",
      "(['ming', 'the', 'merciless', 'does', 'a', 'little', 'bardwork', 'and', 'a', 'movie', 'most', 'foul'], 0) \n",
      "\n"
     ]
    }
   ],
   "source": [
    "import re\n",
    "\n",
    "# use regular expression to split the sentence\n",
    "# check https://docs.python.org/3/library/re.html for more information\n",
    "def tokenize(text):\n",
    "    return [s.lower() for s in re.split(r'\\W+', text) if len(s) > 0]\n",
    "\n",
    "tokenized_data = []\n",
    "for text, label in data:\n",
    "    tokenized_data.append((tokenize(text), label))\n",
    "    print(tokenized_data[-1], '\\n')"
   ]
  },
  {
   "cell_type": "code",
   "execution_count": 12,
   "metadata": {},
   "outputs": [],
   "source": [
    "#tokenized_data"
   ]
  },
  {
   "cell_type": "markdown",
   "metadata": {},
   "source": [
    "## 1.2 Creating a Vocabulary\n",
    "\n",
    "We have converted the dataset into pairs of token lists and corresponding labels. But strings have variant length and are less easy for handling. It would be nice to represent words with numbers. So, we need to create a <b>vocabulary</b>, which is a dictionary that maps each word to an integer id.\n",
    "\n",
    "In large datasets, there are too many words and most of them don't occur very frequently. One common approach we use to tackle this problem is to pick most common N words from the dataset. Therefore, we restrict the number of words.\n",
    "\n",
    "Let's first compute the word frequencies in our dummy dataset. To compute frequencies, we use the [Counter](https://docs.python.org/3/library/collections.html#collections.Counter) data structure."
   ]
  },
  {
   "cell_type": "code",
   "execution_count": 4,
   "metadata": {},
   "outputs": [
    {
     "data": {
      "text/plain": [
       "Counter({'i': 5,\n",
       "         'don': 1,\n",
       "         't': 2,\n",
       "         'know': 1,\n",
       "         'why': 1,\n",
       "         'like': 1,\n",
       "         'this': 2,\n",
       "         'movie': 2,\n",
       "         'so': 2,\n",
       "         'well': 1,\n",
       "         'but': 2,\n",
       "         'never': 2,\n",
       "         'get': 1,\n",
       "         'tired': 1,\n",
       "         'of': 3,\n",
       "         'watching': 1,\n",
       "         'it': 2,\n",
       "         'smallville': 3,\n",
       "         'episode': 3,\n",
       "         'justice': 1,\n",
       "         'is': 1,\n",
       "         'the': 3,\n",
       "         'best': 1,\n",
       "         's': 1,\n",
       "         'my': 1,\n",
       "         'favorite': 1,\n",
       "         'obviously': 1,\n",
       "         'written': 1,\n",
       "         'for': 1,\n",
       "         'stage': 1,\n",
       "         'lightweight': 1,\n",
       "         'worthwhile': 1,\n",
       "         'how': 1,\n",
       "         'can': 1,\n",
       "         'you': 1,\n",
       "         'go': 1,\n",
       "         'wrong': 1,\n",
       "         'with': 1,\n",
       "         'ralph': 1,\n",
       "         'richardson': 1,\n",
       "         'olivier': 1,\n",
       "         'and': 2,\n",
       "         'merle': 1,\n",
       "         'oberon': 1,\n",
       "         'wouldn': 1,\n",
       "         'rent': 1,\n",
       "         'one': 1,\n",
       "         'even': 1,\n",
       "         'on': 1,\n",
       "         'dollar': 1,\n",
       "         'rental': 1,\n",
       "         'night': 1,\n",
       "         'long': 1,\n",
       "         'boring': 1,\n",
       "         'blasphemous': 1,\n",
       "         'have': 1,\n",
       "         'been': 1,\n",
       "         'glad': 1,\n",
       "         'to': 1,\n",
       "         'see': 1,\n",
       "         'ending': 1,\n",
       "         'credits': 1,\n",
       "         'roll': 1,\n",
       "         'ming': 1,\n",
       "         'merciless': 1,\n",
       "         'does': 1,\n",
       "         'a': 2,\n",
       "         'little': 1,\n",
       "         'bardwork': 1,\n",
       "         'most': 1,\n",
       "         'foul': 1})"
      ]
     },
     "execution_count": 4,
     "metadata": {},
     "output_type": "execute_result"
    }
   ],
   "source": [
    "from collections import Counter\n",
    "\n",
    "freqs = Counter()\n",
    "for tokens, _ in tokenized_data:\n",
    "    freqs.update(tokens)\n",
    "\n",
    "freqs"
   ]
  },
  {
   "cell_type": "markdown",
   "metadata": {},
   "source": [
    "To create the dictionary, let's select the most common 20 words to create a vocabulary. In addition to the words that appear in our data, we need to have two special words:\n",
    "\n",
    "- `<eos>` End of sequence symbol used for padding\n",
    "- `<unk>` Words unknown in our vocabulary"
   ]
  },
  {
   "cell_type": "code",
   "execution_count": 5,
   "metadata": {},
   "outputs": [
    {
     "data": {
      "text/plain": [
       "{'<eos>': 0,\n",
       " '<unk>': 1,\n",
       " 'i': 2,\n",
       " 'of': 3,\n",
       " 'smallville': 4,\n",
       " 'episode': 5,\n",
       " 'the': 6,\n",
       " 't': 7,\n",
       " 'this': 8,\n",
       " 'movie': 9,\n",
       " 'so': 10,\n",
       " 'but': 11,\n",
       " 'never': 12,\n",
       " 'it': 13,\n",
       " 'and': 14,\n",
       " 'a': 15,\n",
       " 'don': 16,\n",
       " 'know': 17,\n",
       " 'why': 18,\n",
       " 'like': 19,\n",
       " 'well': 20,\n",
       " 'get': 21}"
      ]
     },
     "execution_count": 5,
     "metadata": {},
     "output_type": "execute_result"
    }
   ],
   "source": [
    "vocab = {'<eos>': 0, '<unk>': 1}\n",
    "for token, freq in freqs.most_common(20):\n",
    "    vocab[token] = len(vocab)\n",
    "vocab"
   ]
  },
  {
   "cell_type": "markdown",
   "metadata": {},
   "source": [
    "## 1.3 Creating the Dataset\n",
    "\n",
    "Putting it all together, we can now create a dataset class. First, let's create index-label pairs:"
   ]
  },
  {
   "cell_type": "code",
   "execution_count": 6,
   "metadata": {},
   "outputs": [
    {
     "name": "stdout",
     "output_type": "stream",
     "text": [
      "[2, 16, 7, 17, 18, 2, 19, 8, 9, 10, 20, 11, 2, 12, 21, 1, 3, 1, 13]  ->  1\n",
      "\n",
      "[4, 5, 1, 1, 6, 1, 5, 3, 4, 13, 1, 1, 1, 5, 3, 4]  ->  1\n",
      "\n",
      "[1, 1, 1, 6, 1, 1, 11, 1, 1, 1, 1, 1, 1, 1, 1, 1, 1, 14, 1, 1]  ->  1\n",
      "\n",
      "[2, 1, 7, 1, 8, 1, 1, 1, 1, 1, 1]  ->  0\n",
      "\n",
      "[1, 1, 1, 12, 1, 2, 1, 10, 1, 1, 1, 1, 1, 1]  ->  0\n",
      "\n",
      "[1, 6, 1, 1, 15, 1, 1, 14, 15, 9, 1, 1]  ->  0\n",
      "\n"
     ]
    }
   ],
   "source": [
    "indexed_data = []\n",
    "for tokens, label in tokenized_data:\n",
    "    indices = [vocab.get(token, vocab['<unk>']) for token in tokens]    \n",
    "    # the token that is not in vocab get assigned <unk>\n",
    "    indexed_data.append((indices, label))\n",
    "    \n",
    "\n",
    "for indices, label in indexed_data:\n",
    "    print(indices, ' -> ', label)\n",
    "    print()"
   ]
  },
  {
   "cell_type": "markdown",
   "metadata": {},
   "source": [
    "<div class=\"alert alert-success\"> \n",
    "    <h3>Task: Check Code</h3>\n",
    "    <p>We now use the PyTorch dataset class we provided in <code>exercise_code/rnn/sentiment_dataset.py</code> file. Please also take a look at the code.</p>\n",
    " </div>\n",
    "    \n",
    "\n",
    "\n",
    "Dataset class also reverse sorts the sequences with respect to the lengths. Thanks to this sorting, we can reduce the total number of padded elements, which means that we have less computations for padded values."
   ]
  },
  {
   "cell_type": "code",
   "execution_count": 14,
   "metadata": {},
   "outputs": [
    {
     "name": "stdout",
     "output_type": "stream",
     "text": [
      "{'data': tensor([ 1,  1,  1,  6,  1,  1, 11,  1,  1,  1,  1,  1,  1,  1,  1,  1,  1, 14,\n",
      "         1,  1]), 'label': tensor(1.)}\n",
      "\n",
      "{'data': tensor([ 2, 16,  7, 17, 18,  2, 19,  8,  9, 10, 20, 11,  2, 12, 21,  1,  3,  1,\n",
      "        13]), 'label': tensor(1.)}\n",
      "\n",
      "{'data': tensor([ 4,  5,  1,  1,  6,  1,  5,  3,  4, 13,  1,  1,  1,  5,  3,  4]), 'label': tensor(1.)}\n",
      "\n",
      "{'data': tensor([ 1,  1,  1, 12,  1,  2,  1, 10,  1,  1,  1,  1,  1,  1]), 'label': tensor(0.)}\n",
      "\n",
      "{'data': tensor([ 1,  6,  1,  1, 15,  1,  1, 14, 15,  9,  1,  1]), 'label': tensor(0.)}\n",
      "\n",
      "{'data': tensor([2, 1, 7, 1, 8, 1, 1, 1, 1, 1, 1]), 'label': tensor(0.)}\n",
      "\n"
     ]
    }
   ],
   "source": [
    "from exercise_code.rnn.sentiment_dataset import SentimentDataset\n",
    "\n",
    "combined_data = [\n",
    "    (raw_text, tokens, indices, label)\n",
    "    for (raw_text, label), (tokens, _), (indices, _)\n",
    "    in zip(data, tokenized_data, indexed_data)\n",
    "]\n",
    "\n",
    "dataset = SentimentDataset(combined_data)\n",
    "\n",
    "for elem in dataset:\n",
    "    print(elem)\n",
    "    print()"
   ]
  },
  {
   "cell_type": "markdown",
   "metadata": {},
   "source": [
    "## 1.4 Minibatching\n",
    "Note that in the dataset we created, not all sequences have the same length. Therefore, we cannot minibatch the data trivially. This means we cannot use a `DataLoader` class easily.\n",
    "\n",
    "<b>If you uncomment the following cell and run it, you will very likely get an error!</b>"
   ]
  },
  {
   "cell_type": "code",
   "execution_count": 16,
   "metadata": {},
   "outputs": [],
   "source": [
    "#loader = DataLoader(dataset, batch_size=3)\n",
    "\n",
    "#for batch in loader:\n",
    "#     print(batch)"
   ]
  },
  {
   "cell_type": "markdown",
   "metadata": {},
   "source": [
    "<div class=\"alert alert-success\"> \n",
    "    <h3>Task: Check Code</h3>\n",
    "    <p>To solve the problem, we need to pad the sequences with <code> < eos > </code> tokens that we indexed as zero. To integrate this approach into the Pytorch <a href=\"https://pytorch.org/docs/stable/data.html#torch.utils.data.DataLoader\" target=\"_blank\">Dataloader</a> class, we will make use of the <code>collate_fn</code> argument. For more details, check out the <code>collate</code> function in <code>exercise_code/rnn/sentiment_dataset</code>. </p>\n",
    "    <p> In addition, we use the <a href=\"https://pytorch.org/docs/stable/generated/torch.nn.utils.rnn.pad_sequence.html\" target=\"_blank\">pad_sequence</a> that pads shorter sequences with 0. </p>\n",
    " </div>"
   ]
  },
  {
   "cell_type": "code",
   "execution_count": 20,
   "metadata": {},
   "outputs": [
    {
     "name": "stdout",
     "output_type": "stream",
     "text": [
      "Data: \n",
      " tensor([[ 1,  2,  4],\n",
      "        [ 1, 16,  5],\n",
      "        [ 1,  7,  1],\n",
      "        [ 6, 17,  1],\n",
      "        [ 1, 18,  6],\n",
      "        [ 1,  2,  1],\n",
      "        [11, 19,  5],\n",
      "        [ 1,  8,  3],\n",
      "        [ 1,  9,  4],\n",
      "        [ 1, 10, 13],\n",
      "        [ 1, 20,  1],\n",
      "        [ 1, 11,  1],\n",
      "        [ 1,  2,  1],\n",
      "        [ 1, 12,  5],\n",
      "        [ 1, 21,  3],\n",
      "        [ 1,  1,  4],\n",
      "        [ 1,  3,  0],\n",
      "        [14,  1,  0],\n",
      "        [ 1, 13,  0],\n",
      "        [ 1,  0,  0]])\n",
      "\n",
      "Labels: \n",
      " tensor([1., 1., 1.])\n",
      "\n",
      "Sequence Lengths: \n",
      " tensor([20, 19, 16])\n",
      "\n",
      "\n",
      "Data: \n",
      " tensor([[ 1,  1,  2],\n",
      "        [ 1,  6,  1],\n",
      "        [ 1,  1,  7],\n",
      "        [12,  1,  1],\n",
      "        [ 1, 15,  8],\n",
      "        [ 2,  1,  1],\n",
      "        [ 1,  1,  1],\n",
      "        [10, 14,  1],\n",
      "        [ 1, 15,  1],\n",
      "        [ 1,  9,  1],\n",
      "        [ 1,  1,  1],\n",
      "        [ 1,  1,  0],\n",
      "        [ 1,  0,  0],\n",
      "        [ 1,  0,  0]])\n",
      "\n",
      "Labels: \n",
      " tensor([0., 0., 0.])\n",
      "\n",
      "Sequence Lengths: \n",
      " tensor([14, 12, 11])\n",
      "\n",
      "\n"
     ]
    }
   ],
   "source": [
    "from torch.nn.utils.rnn import pad_sequence\n",
    "\n",
    "def collate(batch):\n",
    "    assert isinstance(batch, list)\n",
    "    data = pad_sequence([b['data'] for b in batch])\n",
    "    lengths = torch.tensor([len(b['data']) for b in batch])\n",
    "    label = torch.stack([b['label'] for b in batch])\n",
    "    return {\n",
    "        'data': data,\n",
    "        'label': label,\n",
    "        'lengths': lengths\n",
    "    }\n",
    "\n",
    "loader = DataLoader(dataset, batch_size=3, collate_fn=collate)\n",
    "for batch in loader:\n",
    "    #print(\"hi\")\n",
    "    print('Data: \\n', batch['data'])\n",
    "    print('\\nLabels: \\n', batch['label'])\n",
    "    print('\\nSequence Lengths: \\n', batch['lengths'])\n",
    "    print('\\n')"
   ]
  },
  {
   "cell_type": "markdown",
   "metadata": {},
   "source": [
    "We can see that these two batches have different length, this is how the reverse sort mentioned in `1.3 Creating the Dataset` benefits for less memory and less computation."
   ]
  },
  {
   "cell_type": "markdown",
   "metadata": {},
   "source": [
    "# 2. Embeddings\n",
    "\n",
    "In the previous section, we explored how to convert text into a sequence of integers. In this form, sequences are still not ready to be inputs of RNNs you implemented in the optional notebook. Integer representation is some kind of one-hot encoding, while not the same since they are not equally weighted given only an integer. \n",
    "\n",
    "Moreover, it fails to express the semantic relations between words and the order of the words has no meaning. We would like a better representation form to keep semantic meaning of the word. For example, as shown in the following picture, the difference between man and woman and difference between king and queen should be close, since the difference is only the gender. If we use a vector for each word, the above relation can be expressed as $vec(\\text{women})-vec(\\text{man}) \\approx vec(\\text{queen}) - vec(\\text{king})$. Usually we call such vector representations as embeddings.\n",
    "\n",
    "<img src='https://developers.google.com/machine-learning/crash-course/images/linear-relationships.svg' width=80% height=80%/>\n",
    "\n",
    "While one can use pre-trained embedding vectors such as [word2vec](https://arxiv.org/abs/1301.3781) or [GLoVe](https://nlp.stanford.edu/projects/glove/), in this exercise we use randomly initialized embedding vectors that will be trained from scratch together with our networks."
   ]
  },
  {
   "cell_type": "markdown",
   "metadata": {},
   "source": [
    "<div class=\"alert alert-info\">\n",
    "\n",
    "<h3> Task: Implement Embedding</h3>\n",
    " <p>In this part, you will implement a simple embedding layer. Embedding is a simple lookup table that stores a dense vector to represent each word in the vocabulary.</p> \n",
    "\n",
    " <p>Your task is to implement the <code>Embedding</code> class in <code>exercise_code.rnn.rnn_nn</code> file. Once you are done, run the below cell to test your implementation. Note that we ensure eos embeddings to be zero by using the <code>padding_idx</code> argument.\n",
    "\n",
    " </div>"
   ]
  },
  {
   "cell_type": "code",
   "execution_count": 27,
   "metadata": {},
   "outputs": [
    {
     "name": "stdout",
     "output_type": "stream",
     "text": [
      "22\n",
      "torch.Size([22, 16])\n"
     ]
    },
    {
     "ename": "AttributeError",
     "evalue": "'NoneType' object has no attribute 'shape'",
     "output_type": "error",
     "traceback": [
      "\u001b[1;31m---------------------------------------------------------------------------\u001b[0m",
      "\u001b[1;31mAttributeError\u001b[0m                            Traceback (most recent call last)",
      "\u001b[1;32m<ipython-input-27-047dd64a719b>\u001b[0m in \u001b[0;36m<module>\u001b[1;34m\u001b[0m\n\u001b[0;32m     13\u001b[0m     \u001b[0mx\u001b[0m \u001b[1;33m=\u001b[0m \u001b[0mbatch\u001b[0m\u001b[1;33m[\u001b[0m\u001b[1;34m'data'\u001b[0m\u001b[1;33m]\u001b[0m\u001b[1;33m\u001b[0m\u001b[1;33m\u001b[0m\u001b[0m\n\u001b[0;32m     14\u001b[0m \u001b[1;33m\u001b[0m\u001b[0m\n\u001b[1;32m---> 15\u001b[1;33m \u001b[0membedding_output_test\u001b[0m\u001b[1;33m(\u001b[0m\u001b[0mi2dl_embedding\u001b[0m\u001b[1;33m,\u001b[0m \u001b[0mpytorch_embedding\u001b[0m\u001b[1;33m,\u001b[0m \u001b[0mx\u001b[0m\u001b[1;33m)\u001b[0m\u001b[1;33m\u001b[0m\u001b[1;33m\u001b[0m\u001b[0m\n\u001b[0m",
      "\u001b[1;32m~\\Desktop\\exercise_11\\exercise_code\\rnn\\tests.py\u001b[0m in \u001b[0;36membedding_output_test\u001b[1;34m(i2dl_embedding, pytorch_embedding, x, val, tol)\u001b[0m\n\u001b[0;32m     87\u001b[0m     \u001b[0mtorch_output\u001b[0m \u001b[1;33m=\u001b[0m \u001b[0mpytorch_embedding\u001b[0m\u001b[1;33m(\u001b[0m\u001b[0mx\u001b[0m\u001b[1;33m)\u001b[0m\u001b[1;33m\u001b[0m\u001b[1;33m\u001b[0m\u001b[0m\n\u001b[0;32m     88\u001b[0m     \u001b[0mpassed\u001b[0m \u001b[1;33m=\u001b[0m \u001b[1;32mTrue\u001b[0m\u001b[1;33m\u001b[0m\u001b[1;33m\u001b[0m\u001b[0m\n\u001b[1;32m---> 89\u001b[1;33m     \u001b[1;32mif\u001b[0m \u001b[0mi2dl_output\u001b[0m\u001b[1;33m.\u001b[0m\u001b[0mshape\u001b[0m \u001b[1;33m!=\u001b[0m \u001b[0mtorch_output\u001b[0m\u001b[1;33m.\u001b[0m\u001b[0mshape\u001b[0m\u001b[1;33m:\u001b[0m\u001b[1;33m\u001b[0m\u001b[1;33m\u001b[0m\u001b[0m\n\u001b[0m\u001b[0;32m     90\u001b[0m         \u001b[0mpassed\u001b[0m \u001b[1;33m=\u001b[0m \u001b[1;32mFalse\u001b[0m\u001b[1;33m\u001b[0m\u001b[1;33m\u001b[0m\u001b[0m\n\u001b[0;32m     91\u001b[0m         print('Output shapes are mismatched! {} vs {}'.format(\n",
      "\u001b[1;31mAttributeError\u001b[0m: 'NoneType' object has no attribute 'shape'"
     ]
    }
   ],
   "source": [
    "import torch.nn as nn\n",
    "\n",
    "from exercise_code.rnn.rnn_nn import Embedding\n",
    "from exercise_code.rnn.tests import embedding_output_test\n",
    "\n",
    "#print(len(vocab))\n",
    "\n",
    "i2dl_embedding = Embedding(len(vocab), 16, padding_idx=0)\n",
    "pytorch_embedding = nn.Embedding(len(vocab), 16, padding_idx=0)\n",
    "\n",
    "loader = DataLoader(dataset, batch_size=len(dataset), collate_fn=collate)\n",
    "for batch in loader:\n",
    "    x = batch['data']\n",
    "\n",
    "embedding_output_test(i2dl_embedding, pytorch_embedding, x)\n"
   ]
  },
  {
   "cell_type": "markdown",
   "metadata": {},
   "source": [
    "# 3. Conclusion\n",
    "\n",
    "In this notebook, you learned how to prepare text data and how to create an embedding layer. In the next notebook, you will combine your Embedding and RNN implementations to create a sentiment analysis network!"
   ]
  },
  {
   "cell_type": "code",
   "execution_count": null,
   "metadata": {},
   "outputs": [],
   "source": []
  }
 ],
 "metadata": {
  "kernelspec": {
   "display_name": "Python 3",
   "language": "python",
   "name": "python3"
  },
  "language_info": {
   "codemirror_mode": {
    "name": "ipython",
    "version": 3
   },
   "file_extension": ".py",
   "mimetype": "text/x-python",
   "name": "python",
   "nbconvert_exporter": "python",
   "pygments_lexer": "ipython3",
   "version": "3.7.9"
  }
 },
 "nbformat": 4,
 "nbformat_minor": 4
}

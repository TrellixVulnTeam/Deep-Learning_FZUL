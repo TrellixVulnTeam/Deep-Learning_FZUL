{
 "cells": [
  {
   "cell_type": "markdown",
   "metadata": {},
   "source": [
    "# Facial Keypoint Detection\n",
    "\n",
    "Welcome back for exercise 9! As we told you, the exercises of this lecture can be subdivided into mainly two parts. The first part in which we re-invented the wheel and implemented the most important methods on our own and the second part where we start using existing libraries (that already have implemented all the methods) and start playing around with more complex network architectures. \n",
    "\n",
    "We entered stage two already before Christmas, but with the introduction of convolution neural networks this week, we are given a very powerful tool that we want to explore in this exercises. So let us start with this week's exercise, where we ask you to build a convolution neural network to perform facial keypoint detection. \n",
    "\n",
    "Before we start, let's take a look at some example images and corresponding facial keypoints:\n",
    "\n",
    "<img src='images/key_pts_example.png' width=70% height=70%/>\n",
    "\n",
    "The facial keypoints (also called facial landmarks) are the small magenta dots shown on each of the faces in the image above. These keypoints mark important areas of the face: the eyes, corners of the mouth, the nose, etc. and are relevant for a variety of computer vision tasks, such as face filters, emotion recognition, pose recognition, and more. "
   ]
  },
  {
   "cell_type": "markdown",
   "metadata": {},
   "source": [
    "# 1. Preparation\n",
    "\n",
    "## Imports"
   ]
  },
  {
   "cell_type": "code",
   "execution_count": 66,
   "metadata": {},
   "outputs": [
    {
     "name": "stdout",
     "output_type": "stream",
     "text": [
      "The autoreload extension is already loaded. To reload it, use:\n",
      "  %reload_ext autoreload\n"
     ]
    }
   ],
   "source": [
    "import os\n",
    "import matplotlib.pyplot as plt\n",
    "import torch\n",
    "from torch.utils.data import DataLoader\n",
    "from torchvision import transforms\n",
    "\n",
    "from exercise_code.data.facial_keypoints_dataset import FacialKeypointsDataset\n",
    "from exercise_code.networks.keypoint_nn import (\n",
    "    DummyKeypointModel,\n",
    "    KeypointModel\n",
    ")\n",
    "from exercise_code.util import (\n",
    "    show_all_keypoints,\n",
    "    save_model,\n",
    ")\n",
    "from exercise_code.tests import test_keypoint_nn\n",
    "\n",
    "%matplotlib inline\n",
    "plt.rcParams['figure.figsize'] = (10.0, 8.0) # set default size of plots\n",
    "plt.rcParams['image.interpolation'] = 'nearest'\n",
    "plt.rcParams['image.cmap'] = 'gray'\n",
    "\n",
    "# for auto-reloading external modules\n",
    "# see http://stackoverflow.com/questions/1907993/autoreload-of-modules-in-ipython\n",
    "%load_ext autoreload\n",
    "%autoreload 2"
   ]
  },
  {
   "cell_type": "markdown",
   "metadata": {},
   "source": [
    "<div class=\"alert alert-warning\">\n",
    "    <h3>Note: Google Colab</h3>\n",
    "    <p>\n",
    "In case you don't have a GPU, you can run this notebook on Google Colab where you can access a GPU for free, but, of course, you can also run this notebook on your CPU.\n",
    "         </p>\n",
    "</div>"
   ]
  },
  {
   "cell_type": "code",
   "execution_count": 67,
   "metadata": {},
   "outputs": [
    {
     "name": "stdout",
     "output_type": "stream",
     "text": [
      "cuda\n"
     ]
    }
   ],
   "source": [
    "device = torch.device(\"cuda\" if torch.cuda.is_available() else \"cpu\")\n",
    "print(device)"
   ]
  },
  {
   "cell_type": "markdown",
   "metadata": {},
   "source": [
    "## Load and Visualize Data\n",
    "To load the data, we have already prepared a Pytorch Dataset class `FacialKeypointsDataset` for you. You can find it in `exercise_code/data/facial_keypoints_dataset.py`. Run the following cell to download the data and initialize your dataset:"
   ]
  },
  {
   "cell_type": "code",
   "execution_count": 236,
   "metadata": {},
   "outputs": [
    {
     "name": "stderr",
     "output_type": "stream",
     "text": [
      "[autoreload of exercise_code.data.facial_keypoints_dataset failed: Traceback (most recent call last):\n",
      "  File \"C:\\Users\\asus\\anaconda3\\envs\\dl\\lib\\site-packages\\IPython\\extensions\\autoreload.py\", line 245, in check\n",
      "    superreload(m, reload, self.old_objects)\n",
      "  File \"C:\\Users\\asus\\anaconda3\\envs\\dl\\lib\\site-packages\\IPython\\extensions\\autoreload.py\", line 410, in superreload\n",
      "    update_generic(old_obj, new_obj)\n",
      "  File \"C:\\Users\\asus\\anaconda3\\envs\\dl\\lib\\site-packages\\IPython\\extensions\\autoreload.py\", line 347, in update_generic\n",
      "    update(a, b)\n",
      "  File \"C:\\Users\\asus\\anaconda3\\envs\\dl\\lib\\site-packages\\IPython\\extensions\\autoreload.py\", line 302, in update_class\n",
      "    if update_generic(old_obj, new_obj): continue\n",
      "  File \"C:\\Users\\asus\\anaconda3\\envs\\dl\\lib\\site-packages\\IPython\\extensions\\autoreload.py\", line 347, in update_generic\n",
      "    update(a, b)\n",
      "  File \"C:\\Users\\asus\\anaconda3\\envs\\dl\\lib\\site-packages\\IPython\\extensions\\autoreload.py\", line 302, in update_class\n",
      "    if update_generic(old_obj, new_obj): continue\n",
      "  File \"C:\\Users\\asus\\anaconda3\\envs\\dl\\lib\\site-packages\\IPython\\extensions\\autoreload.py\", line 347, in update_generic\n",
      "    update(a, b)\n",
      "  File \"C:\\Users\\asus\\anaconda3\\envs\\dl\\lib\\site-packages\\IPython\\extensions\\autoreload.py\", line 302, in update_class\n",
      "    if update_generic(old_obj, new_obj): continue\n",
      "  File \"C:\\Users\\asus\\anaconda3\\envs\\dl\\lib\\site-packages\\IPython\\extensions\\autoreload.py\", line 347, in update_generic\n",
      "    update(a, b)\n",
      "  File \"C:\\Users\\asus\\anaconda3\\envs\\dl\\lib\\site-packages\\IPython\\extensions\\autoreload.py\", line 302, in update_class\n",
      "    if update_generic(old_obj, new_obj): continue\n",
      "RecursionError: maximum recursion depth exceeded\n",
      "]\n"
     ]
    },
    {
     "data": {
      "text/plain": [
       "tensor([0.1922])"
      ]
     },
     "execution_count": 236,
     "metadata": {},
     "output_type": "execute_result"
    }
   ],
   "source": [
    "torch.rand(1)\n"
   ]
  },
  {
   "cell_type": "code",
   "execution_count": 237,
   "metadata": {},
   "outputs": [],
   "source": [
    "import torch.nn.functional as F\n",
    "class RandomHorizontalFlip(torch.nn.Module):\n",
    "    def __init__(self, p=0.5):\n",
    "        super().__init__()\n",
    "        self.p = p\n",
    "\n",
    "    def forward(self, data):\n",
    "        print(\"do transform\")\n",
    "        image, keypoints = data['image'], data['keypoints']\n",
    "        print(image)\n",
    "        print(keypoints)\n",
    "        if torch.rand(1) < self.p:\n",
    "            print(\"do hor flip\")\n",
    "            image = torch.flip(image, [2])\n",
    "            keypoints[:,0] *= -1\n",
    "\n",
    "        print(image)\n",
    "        print(keypoints)\n",
    "        return {'image': image, 'keypoints': keypoints}\n",
    "\n",
    "    def __repr__(self):\n",
    "        return self.__class__.__name__ + '(p={})'.format(self.p)\n",
    "    \n",
    "class RandomVerticalFlip(torch.nn.Module):\n",
    "    def __init__(self, p=0.5):\n",
    "        super().__init__()\n",
    "        self.p = p\n",
    "\n",
    "    def forward(self, data):\n",
    "        print(\"do transform\")\n",
    "        image, keypoints = data['image'], data['keypoints']\n",
    "        print(image)\n",
    "        print(keypoints)\n",
    "        if torch.rand(1) < self.p:\n",
    "            print(\"do ver flip\")\n",
    "            image = torch.flip(image, [1])\n",
    "            keypoints[:,1] *= -1\n",
    "        \n",
    "        print(image)\n",
    "        print(keypoints)\n",
    "        return {'image': image, 'keypoints': keypoints}\n",
    "\n",
    "    def __repr__(self):\n",
    "        return self.__class__.__name__ + '(p={})'.format(self.p)"
   ]
  },
  {
   "cell_type": "code",
   "execution_count": 238,
   "metadata": {},
   "outputs": [],
   "source": [
    "transform_train = transforms.Compose([\n",
    "    RandomHorizontalFlip(),\n",
    "    #RandomVerticalFlip()\n",
    "])"
   ]
  },
  {
   "cell_type": "code",
   "execution_count": 239,
   "metadata": {},
   "outputs": [
    {
     "name": "stdout",
     "output_type": "stream",
     "text": [
      "Number of training samples: 1546\n",
      "Number of validation samples: 298\n"
     ]
    }
   ],
   "source": [
    "download_url = 'https://vision.in.tum.de/webshare/g/i2dl/facial_keypoints.zip'\n",
    "i2dl_exercises_path = os.path.dirname(os.path.abspath(os.getcwd()))\n",
    "data_root = os.path.join(i2dl_exercises_path, \"datasets\", \"facial_keypoints\")\n",
    "\n",
    "# Load the training data\n",
    "train_dataset = FacialKeypointsDataset(\n",
    "    train=True,\n",
    "    transform=transform_train,\n",
    "    root=data_root,\n",
    "    download_url=download_url\n",
    ")\n",
    "val_dataset = FacialKeypointsDataset(\n",
    "    train=False,\n",
    "    #transform=transform_eval,\n",
    "    root=data_root,\n",
    ")\n",
    "print(\"Number of training samples:\", len(train_dataset))\n",
    "print(\"Number of validation samples:\", len(val_dataset))"
   ]
  },
  {
   "cell_type": "markdown",
   "metadata": {},
   "source": [
    "Each sample in our dataset is a dict `{\"image\": image, \"keypoints\": keypoints}`, where\n",
    " * `image` is a [0-1]-normalized gray-scale image of size 96x96, represented by a torch tensor of shape (CxHxW) with C=1, H=96, W=96\n",
    "    <img style=\"float: right;\" src='images/key_pts_expl.png' width=50% height=50%/>\n",
    " * `keypoints` is the list of K facial keypoints, stored in a torch tensor of shape (Kx2). We have K=15 keypoints that stand for:\n",
    "   * keypoints[0]: Center of the left eye\n",
    "   * keypoints[1]: Center of the right eye\n",
    "   * keypoints[2]: Left eye inner corner\n",
    "   * keypoints[3]: Left eye outer corner\n",
    "   * keypoints[4]: Right eye inner corner\n",
    "   * keypoints[5]: Right eye outer corner\n",
    "   * keypoints[6]: Left eyebrow inner end\n",
    "   * keypoints[7]: Left eyebrow outer end\n",
    "   * keypoints[8]: Right eyebrow inner end\n",
    "   * keypoints[9]: Right eyebrow outer end\n",
    "   * keypoints[10]: Nose tip\n",
    "   * keypoints[11]: Mouth left corner\n",
    "   * keypoints[12]: Mouth right corner\n",
    "   * keypoints[13]: Mouth center top lip\n",
    "   * keypoints[14]: Mouth center bottom lip\n",
    "   \n",
    "Each individual facial keypoint is represented by two coordinates (x,y) that specify the horizontal and vertical location of the keypoint respectively. All keypoint values are normalized to [-1,1], such that:\n",
    "   * (x=-1,y=-1) corresponds to the top left corner, \n",
    "   * (x=-1,y=1) to the bottom left corner,\n",
    "   * (x=1,y=-1) to the top right corner,\n",
    "   * (x=1,y=1) to the bottom right corner,\n",
    "   * and (x=0,y=0) to the center of the image.\n",
    "   \n",
    "      \n",
    "The data downloaded is already preprocessed and hence there is no need to apply transformations in order to prepare the data. Of course, feel free to apply trainings transformation to improve your performance such as flipping the trainings images, but don't forget that these transformations (data augmentation) are only applied to your trainings set. Your validation and test set remain untouched. Also, when applying transformations such as flipping, make sure the predicted coordinates of your keypoints will change accordingly.\n",
    "\n",
    "Let's have a look at the first training sample to get a better feeling for the dataset:"
   ]
  },
  {
   "cell_type": "code",
   "execution_count": 240,
   "metadata": {
    "scrolled": true
   },
   "outputs": [
    {
     "name": "stdout",
     "output_type": "stream",
     "text": [
      "transformmmmmmmmmmmm\n",
      "do transform\n",
      "tensor([[[0.3804, 0.2039, 0.2275,  ..., 0.9922, 0.9961, 0.9961],\n",
      "         [0.3333, 0.2157, 0.2588,  ..., 0.9922, 0.9961, 0.9961],\n",
      "         [0.2941, 0.2588, 0.2902,  ..., 0.9922, 0.9961, 0.9961],\n",
      "         ...,\n",
      "         [0.1294, 0.1255, 0.1255,  ..., 0.9255, 1.0000, 1.0000],\n",
      "         [0.1294, 0.1255, 0.1216,  ..., 0.9490, 0.9843, 0.9804],\n",
      "         [0.1216, 0.1176, 0.1216,  ..., 0.9255, 1.0000, 0.9922]]])\n",
      "tensor([[ 0.4685, -0.2319],\n",
      "        [-0.4253, -0.1953],\n",
      "        [ 0.2908, -0.2214],\n",
      "        [ 0.5992, -0.2214],\n",
      "        [-0.2685, -0.2109],\n",
      "        [-0.5873, -0.1900],\n",
      "        [ 0.1967, -0.3827],\n",
      "        [ 0.7656, -0.4295],\n",
      "        [-0.2035, -0.3758],\n",
      "        [-0.7389, -0.3573],\n",
      "        [ 0.0086,  0.2333],\n",
      "        [ 0.4163,  0.6620],\n",
      "        [-0.3521,  0.6985],\n",
      "        [ 0.0138,  0.6045],\n",
      "        [ 0.0190,  0.9076]])\n",
      "tensor([[[0.3804, 0.2039, 0.2275,  ..., 0.9922, 0.9961, 0.9961],\n",
      "         [0.3333, 0.2157, 0.2588,  ..., 0.9922, 0.9961, 0.9961],\n",
      "         [0.2941, 0.2588, 0.2902,  ..., 0.9922, 0.9961, 0.9961],\n",
      "         ...,\n",
      "         [0.1294, 0.1255, 0.1255,  ..., 0.9255, 1.0000, 1.0000],\n",
      "         [0.1294, 0.1255, 0.1216,  ..., 0.9490, 0.9843, 0.9804],\n",
      "         [0.1216, 0.1176, 0.1216,  ..., 0.9255, 1.0000, 0.9922]]])\n",
      "tensor([[ 0.4685, -0.2319],\n",
      "        [-0.4253, -0.1953],\n",
      "        [ 0.2908, -0.2214],\n",
      "        [ 0.5992, -0.2214],\n",
      "        [-0.2685, -0.2109],\n",
      "        [-0.5873, -0.1900],\n",
      "        [ 0.1967, -0.3827],\n",
      "        [ 0.7656, -0.4295],\n",
      "        [-0.2035, -0.3758],\n",
      "        [-0.7389, -0.3573],\n",
      "        [ 0.0086,  0.2333],\n",
      "        [ 0.4163,  0.6620],\n",
      "        [-0.3521,  0.6985],\n",
      "        [ 0.0138,  0.6045],\n",
      "        [ 0.0190,  0.9076]])\n",
      "transformmmmmmmmmmmm\n",
      "do transform\n",
      "tensor([[[0.3804, 0.2039, 0.2275,  ..., 0.9922, 0.9961, 0.9961],\n",
      "         [0.3333, 0.2157, 0.2588,  ..., 0.9922, 0.9961, 0.9961],\n",
      "         [0.2941, 0.2588, 0.2902,  ..., 0.9922, 0.9961, 0.9961],\n",
      "         ...,\n",
      "         [0.1294, 0.1255, 0.1255,  ..., 0.9255, 1.0000, 1.0000],\n",
      "         [0.1294, 0.1255, 0.1216,  ..., 0.9490, 0.9843, 0.9804],\n",
      "         [0.1216, 0.1176, 0.1216,  ..., 0.9255, 1.0000, 0.9922]]])\n",
      "tensor([[ 0.4685, -0.2319],\n",
      "        [-0.4253, -0.1953],\n",
      "        [ 0.2908, -0.2214],\n",
      "        [ 0.5992, -0.2214],\n",
      "        [-0.2685, -0.2109],\n",
      "        [-0.5873, -0.1900],\n",
      "        [ 0.1967, -0.3827],\n",
      "        [ 0.7656, -0.4295],\n",
      "        [-0.2035, -0.3758],\n",
      "        [-0.7389, -0.3573],\n",
      "        [ 0.0086,  0.2333],\n",
      "        [ 0.4163,  0.6620],\n",
      "        [-0.3521,  0.6985],\n",
      "        [ 0.0138,  0.6045],\n",
      "        [ 0.0190,  0.9076]])\n",
      "tensor([[[0.3804, 0.2039, 0.2275,  ..., 0.9922, 0.9961, 0.9961],\n",
      "         [0.3333, 0.2157, 0.2588,  ..., 0.9922, 0.9961, 0.9961],\n",
      "         [0.2941, 0.2588, 0.2902,  ..., 0.9922, 0.9961, 0.9961],\n",
      "         ...,\n",
      "         [0.1294, 0.1255, 0.1255,  ..., 0.9255, 1.0000, 1.0000],\n",
      "         [0.1294, 0.1255, 0.1216,  ..., 0.9490, 0.9843, 0.9804],\n",
      "         [0.1216, 0.1176, 0.1216,  ..., 0.9255, 1.0000, 0.9922]]])\n",
      "tensor([[ 0.4685, -0.2319],\n",
      "        [-0.4253, -0.1953],\n",
      "        [ 0.2908, -0.2214],\n",
      "        [ 0.5992, -0.2214],\n",
      "        [-0.2685, -0.2109],\n",
      "        [-0.5873, -0.1900],\n",
      "        [ 0.1967, -0.3827],\n",
      "        [ 0.7656, -0.4295],\n",
      "        [-0.2035, -0.3758],\n",
      "        [-0.7389, -0.3573],\n",
      "        [ 0.0086,  0.2333],\n",
      "        [ 0.4163,  0.6620],\n",
      "        [-0.3521,  0.6985],\n",
      "        [ 0.0138,  0.6045],\n",
      "        [ 0.0190,  0.9076]])\n",
      "Shape of the image: torch.Size([1, 96, 96])\n",
      "Smallest value in the image: tensor(0.0118)\n",
      "Largest value in the image: tensor(1.)\n",
      "tensor([[[0.3804, 0.2039, 0.2275,  ..., 0.9922, 0.9961, 0.9961],\n",
      "         [0.3333, 0.2157, 0.2588,  ..., 0.9922, 0.9961, 0.9961],\n",
      "         [0.2941, 0.2588, 0.2902,  ..., 0.9922, 0.9961, 0.9961],\n",
      "         ...,\n",
      "         [0.1294, 0.1255, 0.1255,  ..., 0.9255, 1.0000, 1.0000],\n",
      "         [0.1294, 0.1255, 0.1216,  ..., 0.9490, 0.9843, 0.9804],\n",
      "         [0.1216, 0.1176, 0.1216,  ..., 0.9255, 1.0000, 0.9922]]])\n"
     ]
    }
   ],
   "source": [
    "image, keypoints = train_dataset[0][\"image\"], train_dataset[0][\"keypoints\"]\n",
    "print(\"Shape of the image:\", image.size())\n",
    "print(\"Smallest value in the image:\", torch.min(image))\n",
    "print(\"Largest value in the image:\", torch.max(image))\n",
    "print(image)"
   ]
  },
  {
   "cell_type": "code",
   "execution_count": 241,
   "metadata": {},
   "outputs": [
    {
     "name": "stdout",
     "output_type": "stream",
     "text": [
      "transformmmmmmmmmmmm\n",
      "do transform\n",
      "tensor([[[0.3804, 0.2039, 0.2275,  ..., 0.9922, 0.9961, 0.9961],\n",
      "         [0.3333, 0.2157, 0.2588,  ..., 0.9922, 0.9961, 0.9961],\n",
      "         [0.2941, 0.2588, 0.2902,  ..., 0.9922, 0.9961, 0.9961],\n",
      "         ...,\n",
      "         [0.1294, 0.1255, 0.1255,  ..., 0.9255, 1.0000, 1.0000],\n",
      "         [0.1294, 0.1255, 0.1216,  ..., 0.9490, 0.9843, 0.9804],\n",
      "         [0.1216, 0.1176, 0.1216,  ..., 0.9255, 1.0000, 0.9922]]])\n",
      "tensor([[ 0.4685, -0.2319],\n",
      "        [-0.4253, -0.1953],\n",
      "        [ 0.2908, -0.2214],\n",
      "        [ 0.5992, -0.2214],\n",
      "        [-0.2685, -0.2109],\n",
      "        [-0.5873, -0.1900],\n",
      "        [ 0.1967, -0.3827],\n",
      "        [ 0.7656, -0.4295],\n",
      "        [-0.2035, -0.3758],\n",
      "        [-0.7389, -0.3573],\n",
      "        [ 0.0086,  0.2333],\n",
      "        [ 0.4163,  0.6620],\n",
      "        [-0.3521,  0.6985],\n",
      "        [ 0.0138,  0.6045],\n",
      "        [ 0.0190,  0.9076]])\n",
      "do hor flip\n",
      "tensor([[[0.9961, 0.9961, 0.9922,  ..., 0.2275, 0.2039, 0.3804],\n",
      "         [0.9961, 0.9961, 0.9922,  ..., 0.2588, 0.2157, 0.3333],\n",
      "         [0.9961, 0.9961, 0.9922,  ..., 0.2902, 0.2588, 0.2941],\n",
      "         ...,\n",
      "         [1.0000, 1.0000, 0.9255,  ..., 0.1255, 0.1255, 0.1294],\n",
      "         [0.9804, 0.9843, 0.9490,  ..., 0.1216, 0.1255, 0.1294],\n",
      "         [0.9922, 1.0000, 0.9255,  ..., 0.1216, 0.1176, 0.1216]]])\n",
      "tensor([[-0.4685, -0.2319],\n",
      "        [ 0.4253, -0.1953],\n",
      "        [-0.2908, -0.2214],\n",
      "        [-0.5992, -0.2214],\n",
      "        [ 0.2685, -0.2109],\n",
      "        [ 0.5873, -0.1900],\n",
      "        [-0.1967, -0.3827],\n",
      "        [-0.7656, -0.4295],\n",
      "        [ 0.2035, -0.3758],\n",
      "        [ 0.7389, -0.3573],\n",
      "        [-0.0086,  0.2333],\n",
      "        [-0.4163,  0.6620],\n",
      "        [ 0.3521,  0.6985],\n",
      "        [-0.0138,  0.6045],\n",
      "        [-0.0190,  0.9076]])\n",
      "tensor([[-0.4685, -0.2319],\n",
      "        [ 0.4253, -0.1953],\n",
      "        [-0.2908, -0.2214],\n",
      "        [-0.5992, -0.2214],\n",
      "        [ 0.2685, -0.2109],\n",
      "        [ 0.5873, -0.1900],\n",
      "        [-0.1967, -0.3827],\n",
      "        [-0.7656, -0.4295],\n",
      "        [ 0.2035, -0.3758],\n",
      "        [ 0.7389, -0.3573],\n",
      "        [-0.0086,  0.2333],\n",
      "        [-0.4163,  0.6620],\n",
      "        [ 0.3521,  0.6985],\n",
      "        [-0.0138,  0.6045],\n",
      "        [-0.0190,  0.9076]])\n"
     ]
    }
   ],
   "source": [
    "keypoints = train_dataset[0][\"keypoints\"]\n",
    "print(keypoints)"
   ]
  },
  {
   "cell_type": "markdown",
   "metadata": {},
   "source": [
    "In `exercise_code/util/vis_utils.py` we also provide you with a function `show_all_keypoints()` that takes in an image and keypoints and displays where the predicted keypoints are in the image. Let's use it to plot the first few images of our training set:"
   ]
  },
  {
   "cell_type": "code",
   "execution_count": 242,
   "metadata": {},
   "outputs": [
    {
     "name": "stdout",
     "output_type": "stream",
     "text": [
      "transformmmmmmmmmmmm\n",
      "do transform\n",
      "tensor([[[0.3804, 0.2039, 0.2275,  ..., 0.9922, 0.9961, 0.9961],\n",
      "         [0.3333, 0.2157, 0.2588,  ..., 0.9922, 0.9961, 0.9961],\n",
      "         [0.2941, 0.2588, 0.2902,  ..., 0.9922, 0.9961, 0.9961],\n",
      "         ...,\n",
      "         [0.1294, 0.1255, 0.1255,  ..., 0.9255, 1.0000, 1.0000],\n",
      "         [0.1294, 0.1255, 0.1216,  ..., 0.9490, 0.9843, 0.9804],\n",
      "         [0.1216, 0.1176, 0.1216,  ..., 0.9255, 1.0000, 0.9922]]])\n",
      "tensor([[ 0.4685, -0.2319],\n",
      "        [-0.4253, -0.1953],\n",
      "        [ 0.2908, -0.2214],\n",
      "        [ 0.5992, -0.2214],\n",
      "        [-0.2685, -0.2109],\n",
      "        [-0.5873, -0.1900],\n",
      "        [ 0.1967, -0.3827],\n",
      "        [ 0.7656, -0.4295],\n",
      "        [-0.2035, -0.3758],\n",
      "        [-0.7389, -0.3573],\n",
      "        [ 0.0086,  0.2333],\n",
      "        [ 0.4163,  0.6620],\n",
      "        [-0.3521,  0.6985],\n",
      "        [ 0.0138,  0.6045],\n",
      "        [ 0.0190,  0.9076]])\n",
      "tensor([[[0.3804, 0.2039, 0.2275,  ..., 0.9922, 0.9961, 0.9961],\n",
      "         [0.3333, 0.2157, 0.2588,  ..., 0.9922, 0.9961, 0.9961],\n",
      "         [0.2941, 0.2588, 0.2902,  ..., 0.9922, 0.9961, 0.9961],\n",
      "         ...,\n",
      "         [0.1294, 0.1255, 0.1255,  ..., 0.9255, 1.0000, 1.0000],\n",
      "         [0.1294, 0.1255, 0.1216,  ..., 0.9490, 0.9843, 0.9804],\n",
      "         [0.1216, 0.1176, 0.1216,  ..., 0.9255, 1.0000, 0.9922]]])\n",
      "tensor([[ 0.4685, -0.2319],\n",
      "        [-0.4253, -0.1953],\n",
      "        [ 0.2908, -0.2214],\n",
      "        [ 0.5992, -0.2214],\n",
      "        [-0.2685, -0.2109],\n",
      "        [-0.5873, -0.1900],\n",
      "        [ 0.1967, -0.3827],\n",
      "        [ 0.7656, -0.4295],\n",
      "        [-0.2035, -0.3758],\n",
      "        [-0.7389, -0.3573],\n",
      "        [ 0.0086,  0.2333],\n",
      "        [ 0.4163,  0.6620],\n",
      "        [-0.3521,  0.6985],\n",
      "        [ 0.0138,  0.6045],\n",
      "        [ 0.0190,  0.9076]])\n",
      "transformmmmmmmmmmmm\n",
      "do transform\n",
      "tensor([[[0.3804, 0.2039, 0.2275,  ..., 0.9922, 0.9961, 0.9961],\n",
      "         [0.3333, 0.2157, 0.2588,  ..., 0.9922, 0.9961, 0.9961],\n",
      "         [0.2941, 0.2588, 0.2902,  ..., 0.9922, 0.9961, 0.9961],\n",
      "         ...,\n",
      "         [0.1294, 0.1255, 0.1255,  ..., 0.9255, 1.0000, 1.0000],\n",
      "         [0.1294, 0.1255, 0.1216,  ..., 0.9490, 0.9843, 0.9804],\n",
      "         [0.1216, 0.1176, 0.1216,  ..., 0.9255, 1.0000, 0.9922]]])\n",
      "tensor([[ 0.4685, -0.2319],\n",
      "        [-0.4253, -0.1953],\n",
      "        [ 0.2908, -0.2214],\n",
      "        [ 0.5992, -0.2214],\n",
      "        [-0.2685, -0.2109],\n",
      "        [-0.5873, -0.1900],\n",
      "        [ 0.1967, -0.3827],\n",
      "        [ 0.7656, -0.4295],\n",
      "        [-0.2035, -0.3758],\n",
      "        [-0.7389, -0.3573],\n",
      "        [ 0.0086,  0.2333],\n",
      "        [ 0.4163,  0.6620],\n",
      "        [-0.3521,  0.6985],\n",
      "        [ 0.0138,  0.6045],\n",
      "        [ 0.0190,  0.9076]])\n",
      "do hor flip\n",
      "tensor([[[0.9961, 0.9961, 0.9922,  ..., 0.2275, 0.2039, 0.3804],\n",
      "         [0.9961, 0.9961, 0.9922,  ..., 0.2588, 0.2157, 0.3333],\n",
      "         [0.9961, 0.9961, 0.9922,  ..., 0.2902, 0.2588, 0.2941],\n",
      "         ...,\n",
      "         [1.0000, 1.0000, 0.9255,  ..., 0.1255, 0.1255, 0.1294],\n",
      "         [0.9804, 0.9843, 0.9490,  ..., 0.1216, 0.1255, 0.1294],\n",
      "         [0.9922, 1.0000, 0.9255,  ..., 0.1216, 0.1176, 0.1216]]])\n",
      "tensor([[-0.4685, -0.2319],\n",
      "        [ 0.4253, -0.1953],\n",
      "        [-0.2908, -0.2214],\n",
      "        [-0.5992, -0.2214],\n",
      "        [ 0.2685, -0.2109],\n",
      "        [ 0.5873, -0.1900],\n",
      "        [-0.1967, -0.3827],\n",
      "        [-0.7656, -0.4295],\n",
      "        [ 0.2035, -0.3758],\n",
      "        [ 0.7389, -0.3573],\n",
      "        [-0.0086,  0.2333],\n",
      "        [-0.4163,  0.6620],\n",
      "        [ 0.3521,  0.6985],\n",
      "        [-0.0138,  0.6045],\n",
      "        [-0.0190,  0.9076]])\n"
     ]
    },
    {
     "data": {
      "image/png": "[encoded data removed]",
      "text/plain": [
       "<Figure size 720x576 with 1 Axes>"
      ]
     },
     "metadata": {
      "needs_background": "light"
     },
     "output_type": "display_data"
    },
    {
     "name": "stdout",
     "output_type": "stream",
     "text": [
      "transformmmmmmmmmmmm\n",
      "do transform\n",
      "tensor([[[0.8157, 0.8157, 0.8078,  ..., 0.9922, 0.9922, 0.9961],\n",
      "         [0.8196, 0.8196, 0.8157,  ..., 0.9686, 1.0000, 0.9922],\n",
      "         [0.8118, 0.8157, 0.8118,  ..., 0.8431, 1.0000, 0.9922],\n",
      "         ...,\n",
      "         [0.5686, 0.5451, 0.6039,  ..., 0.5373, 0.4784, 0.5255],\n",
      "         [0.5608, 0.5569, 0.6235,  ..., 0.5451, 0.4824, 0.5059],\n",
      "         [0.5804, 0.5843, 0.6275,  ..., 0.5608, 0.4980, 0.4941]]])\n",
      "tensor([[ 0.4041, -0.2140],\n",
      "        [-0.3398, -0.2260],\n",
      "        [ 0.3021, -0.2020],\n",
      "        [ 0.5601, -0.1780],\n",
      "        [-0.2318, -0.2200],\n",
      "        [-0.4657, -0.2020],\n",
      "        [ 0.2301, -0.4539],\n",
      "        [ 0.7160, -0.3700],\n",
      "        [-0.1238, -0.4360],\n",
      "        [-0.5737, -0.4300],\n",
      "        [ 0.0142,  0.2599],\n",
      "        [ 0.3081,  0.4999],\n",
      "        [-0.2738,  0.4639],\n",
      "        [ 0.0322,  0.3919],\n",
      "        [ 0.0022,  0.6858]])\n",
      "do hor flip\n",
      "tensor([[[0.9961, 0.9922, 0.9922,  ..., 0.8078, 0.8157, 0.8157],\n",
      "         [0.9922, 1.0000, 0.9686,  ..., 0.8157, 0.8196, 0.8196],\n",
      "         [0.9922, 1.0000, 0.8431,  ..., 0.8118, 0.8157, 0.8118],\n",
      "         ...,\n",
      "         [0.5255, 0.4784, 0.5373,  ..., 0.6039, 0.5451, 0.5686],\n",
      "         [0.5059, 0.4824, 0.5451,  ..., 0.6235, 0.5569, 0.5608],\n",
      "         [0.4941, 0.4980, 0.5608,  ..., 0.6275, 0.5843, 0.5804]]])\n",
      "tensor([[-0.4041, -0.2140],\n",
      "        [ 0.3398, -0.2260],\n",
      "        [-0.3021, -0.2020],\n",
      "        [-0.5601, -0.1780],\n",
      "        [ 0.2318, -0.2200],\n",
      "        [ 0.4657, -0.2020],\n",
      "        [-0.2301, -0.4539],\n",
      "        [-0.7160, -0.3700],\n",
      "        [ 0.1238, -0.4360],\n",
      "        [ 0.5737, -0.4300],\n",
      "        [-0.0142,  0.2599],\n",
      "        [-0.3081,  0.4999],\n",
      "        [ 0.2738,  0.4639],\n",
      "        [-0.0322,  0.3919],\n",
      "        [-0.0022,  0.6858]])\n",
      "transformmmmmmmmmmmm\n",
      "do transform\n",
      "tensor([[[0.8157, 0.8157, 0.8078,  ..., 0.9922, 0.9922, 0.9961],\n",
      "         [0.8196, 0.8196, 0.8157,  ..., 0.9686, 1.0000, 0.9922],\n",
      "         [0.8118, 0.8157, 0.8118,  ..., 0.8431, 1.0000, 0.9922],\n",
      "         ...,\n",
      "         [0.5686, 0.5451, 0.6039,  ..., 0.5373, 0.4784, 0.5255],\n",
      "         [0.5608, 0.5569, 0.6235,  ..., 0.5451, 0.4824, 0.5059],\n",
      "         [0.5804, 0.5843, 0.6275,  ..., 0.5608, 0.4980, 0.4941]]])\n",
      "tensor([[ 0.4041, -0.2140],\n",
      "        [-0.3398, -0.2260],\n",
      "        [ 0.3021, -0.2020],\n",
      "        [ 0.5601, -0.1780],\n",
      "        [-0.2318, -0.2200],\n",
      "        [-0.4657, -0.2020],\n",
      "        [ 0.2301, -0.4539],\n",
      "        [ 0.7160, -0.3700],\n",
      "        [-0.1238, -0.4360],\n",
      "        [-0.5737, -0.4300],\n",
      "        [ 0.0142,  0.2599],\n",
      "        [ 0.3081,  0.4999],\n",
      "        [-0.2738,  0.4639],\n",
      "        [ 0.0322,  0.3919],\n",
      "        [ 0.0022,  0.6858]])\n",
      "tensor([[[0.8157, 0.8157, 0.8078,  ..., 0.9922, 0.9922, 0.9961],\n",
      "         [0.8196, 0.8196, 0.8157,  ..., 0.9686, 1.0000, 0.9922],\n",
      "         [0.8118, 0.8157, 0.8118,  ..., 0.8431, 1.0000, 0.9922],\n",
      "         ...,\n",
      "         [0.5686, 0.5451, 0.6039,  ..., 0.5373, 0.4784, 0.5255],\n",
      "         [0.5608, 0.5569, 0.6235,  ..., 0.5451, 0.4824, 0.5059],\n",
      "         [0.5804, 0.5843, 0.6275,  ..., 0.5608, 0.4980, 0.4941]]])\n",
      "tensor([[ 0.4041, -0.2140],\n",
      "        [-0.3398, -0.2260],\n",
      "        [ 0.3021, -0.2020],\n",
      "        [ 0.5601, -0.1780],\n",
      "        [-0.2318, -0.2200],\n",
      "        [-0.4657, -0.2020],\n",
      "        [ 0.2301, -0.4539],\n",
      "        [ 0.7160, -0.3700],\n",
      "        [-0.1238, -0.4360],\n",
      "        [-0.5737, -0.4300],\n",
      "        [ 0.0142,  0.2599],\n",
      "        [ 0.3081,  0.4999],\n",
      "        [-0.2738,  0.4639],\n",
      "        [ 0.0322,  0.3919],\n",
      "        [ 0.0022,  0.6858]])\n"
     ]
    },
    {
     "data": {
      "image/png": "[encoded data removed]",
      "text/plain": [
       "<Figure size 720x576 with 1 Axes>"
      ]
     },
     "metadata": {
      "needs_background": "light"
     },
     "output_type": "display_data"
    },
    {
     "name": "stdout",
     "output_type": "stream",
     "text": [
      "transformmmmmmmmmmmm\n",
      "do transform\n",
      "tensor([[[0.9569, 0.9686, 0.9725,  ..., 0.6824, 0.6980, 0.6902],\n",
      "         [0.9647, 0.9686, 0.9725,  ..., 0.6863, 0.6941, 0.6902],\n",
      "         [0.9647, 0.9725, 0.9686,  ..., 0.6784, 0.6902, 0.6941],\n",
      "         ...,\n",
      "         [0.6392, 0.4824, 0.5569,  ..., 0.3137, 0.2745, 0.2275],\n",
      "         [0.6314, 0.4431, 0.5725,  ..., 0.3020, 0.2627, 0.2078],\n",
      "         [0.6039, 0.4039, 0.5922,  ..., 0.3373, 0.2784, 0.1882]]])\n",
      "tensor([[ 0.3170, -0.2311],\n",
      "        [-0.3357, -0.2122],\n",
      "        [ 0.1846, -0.1980],\n",
      "        [ 0.4305, -0.2169],\n",
      "        [-0.2080, -0.1791],\n",
      "        [-0.4586, -0.1980],\n",
      "        [ 0.0852, -0.3494],\n",
      "        [ 0.5865, -0.3777],\n",
      "        [-0.1515, -0.2963],\n",
      "        [-0.6194, -0.3683],\n",
      "        [-0.0377,  0.2702],\n",
      "        [ 0.2460,  0.5397],\n",
      "        [-0.2647,  0.5634],\n",
      "        [-0.0330,  0.5303],\n",
      "        [-0.0235,  0.6674]])\n",
      "do hor flip\n",
      "tensor([[[0.6902, 0.6980, 0.6824,  ..., 0.9725, 0.9686, 0.9569],\n",
      "         [0.6902, 0.6941, 0.6863,  ..., 0.9725, 0.9686, 0.9647],\n",
      "         [0.6941, 0.6902, 0.6784,  ..., 0.9686, 0.9725, 0.9647],\n",
      "         ...,\n",
      "         [0.2275, 0.2745, 0.3137,  ..., 0.5569, 0.4824, 0.6392],\n",
      "         [0.2078, 0.2627, 0.3020,  ..., 0.5725, 0.4431, 0.6314],\n",
      "         [0.1882, 0.2784, 0.3373,  ..., 0.5922, 0.4039, 0.6039]]])\n",
      "tensor([[-0.3170, -0.2311],\n",
      "        [ 0.3357, -0.2122],\n",
      "        [-0.1846, -0.1980],\n",
      "        [-0.4305, -0.2169],\n",
      "        [ 0.2080, -0.1791],\n",
      "        [ 0.4586, -0.1980],\n",
      "        [-0.0852, -0.3494],\n",
      "        [-0.5865, -0.3777],\n",
      "        [ 0.1515, -0.2963],\n",
      "        [ 0.6194, -0.3683],\n",
      "        [ 0.0377,  0.2702],\n",
      "        [-0.2460,  0.5397],\n",
      "        [ 0.2647,  0.5634],\n",
      "        [ 0.0330,  0.5303],\n",
      "        [ 0.0235,  0.6674]])\n",
      "transformmmmmmmmmmmm\n",
      "do transform\n",
      "tensor([[[0.9569, 0.9686, 0.9725,  ..., 0.6824, 0.6980, 0.6902],\n",
      "         [0.9647, 0.9686, 0.9725,  ..., 0.6863, 0.6941, 0.6902],\n",
      "         [0.9647, 0.9725, 0.9686,  ..., 0.6784, 0.6902, 0.6941],\n",
      "         ...,\n",
      "         [0.6392, 0.4824, 0.5569,  ..., 0.3137, 0.2745, 0.2275],\n",
      "         [0.6314, 0.4431, 0.5725,  ..., 0.3020, 0.2627, 0.2078],\n",
      "         [0.6039, 0.4039, 0.5922,  ..., 0.3373, 0.2784, 0.1882]]])\n",
      "tensor([[ 0.3170, -0.2311],\n",
      "        [-0.3357, -0.2122],\n",
      "        [ 0.1846, -0.1980],\n",
      "        [ 0.4305, -0.2169],\n",
      "        [-0.2080, -0.1791],\n",
      "        [-0.4586, -0.1980],\n",
      "        [ 0.0852, -0.3494],\n",
      "        [ 0.5865, -0.3777],\n",
      "        [-0.1515, -0.2963],\n",
      "        [-0.6194, -0.3683],\n",
      "        [-0.0377,  0.2702],\n",
      "        [ 0.2460,  0.5397],\n",
      "        [-0.2647,  0.5634],\n",
      "        [-0.0330,  0.5303],\n",
      "        [-0.0235,  0.6674]])\n",
      "do hor flip\n",
      "tensor([[[0.6902, 0.6980, 0.6824,  ..., 0.9725, 0.9686, 0.9569],\n",
      "         [0.6902, 0.6941, 0.6863,  ..., 0.9725, 0.9686, 0.9647],\n",
      "         [0.6941, 0.6902, 0.6784,  ..., 0.9686, 0.9725, 0.9647],\n",
      "         ...,\n",
      "         [0.2275, 0.2745, 0.3137,  ..., 0.5569, 0.4824, 0.6392],\n",
      "         [0.2078, 0.2627, 0.3020,  ..., 0.5725, 0.4431, 0.6314],\n",
      "         [0.1882, 0.2784, 0.3373,  ..., 0.5922, 0.4039, 0.6039]]])\n",
      "tensor([[-0.3170, -0.2311],\n",
      "        [ 0.3357, -0.2122],\n",
      "        [-0.1846, -0.1980],\n",
      "        [-0.4305, -0.2169],\n",
      "        [ 0.2080, -0.1791],\n",
      "        [ 0.4586, -0.1980],\n",
      "        [-0.0852, -0.3494],\n",
      "        [-0.5865, -0.3777],\n",
      "        [ 0.1515, -0.2963],\n",
      "        [ 0.6194, -0.3683],\n",
      "        [ 0.0377,  0.2702],\n",
      "        [-0.2460,  0.5397],\n",
      "        [ 0.2647,  0.5634],\n",
      "        [ 0.0330,  0.5303],\n",
      "        [ 0.0235,  0.6674]])\n"
     ]
    },
    {
     "data": {
      "image/png": "[encoded data removed]",
      "text/plain": [
       "<Figure size 720x576 with 1 Axes>"
      ]
     },
     "metadata": {
      "needs_background": "light"
     },
     "output_type": "display_data"
    }
   ],
   "source": [
    "def show_keypoints(dataset, num_samples=3):\n",
    "    for i in range(num_samples):\n",
    "        image = dataset[i][\"image\"]\n",
    "        key_pts = dataset[i][\"keypoints\"]\n",
    "        show_all_keypoints(image, key_pts)\n",
    "show_keypoints(train_dataset)"
   ]
  },
  {
   "cell_type": "markdown",
   "metadata": {},
   "source": [
    "# 2. Facial Keypoint Detection\n",
    "Your task is to define and train a model for facial keypoint detection.\n",
    "\n",
    "The facial keypoint detection task can be seen as a regression problem, where the goal is to predict 30 different values that correspond to the 15 facial keypoint locations. Thus, we need to build a network that gets a (1x96x96) image as input and predicts 30 continuous outputs between [-1,1].\n",
    "\n",
    "## Dummy Model\n",
    "\n",
    "<div class=\"alert alert-success\">\n",
    "    <h3>Task: Check Code</h3>\n",
    "    <p>In <code>exercise_code/networks/keypoint_nn.py</code> we defined a naive <code>DummyKeypointModel</code>, which always predicts the keypoints of the first training image. Let's try it on a few images and visualize our predictions in red:\n",
    " </p>\n",
    "</div>"
   ]
  },
  {
   "cell_type": "code",
   "execution_count": null,
   "metadata": {},
   "outputs": [],
   "source": [
    "def show_keypoint_predictions(model, dataset, num_samples=3):\n",
    "    for i in range(num_samples):\n",
    "        image = dataset[i][\"image\"]\n",
    "        print(image.shape)\n",
    "        key_pts = dataset[i][\"keypoints\"]\n",
    "        #print(key_pts)\n",
    "        predicted_keypoints = torch.squeeze(model(image).detach()).view(15,2)\n",
    "        show_all_keypoints(image, key_pts, predicted_keypoints)"
   ]
  },
  {
   "cell_type": "code",
   "execution_count": null,
   "metadata": {},
   "outputs": [],
   "source": [
    "dummy_model = DummyKeypointModel()\n",
    "show_keypoint_predictions(dummy_model, train_dataset)"
   ]
  },
  {
   "cell_type": "markdown",
   "metadata": {},
   "source": [
    "As we see, the model predicts the first sample perfectly, but for the remaining samples the predictions are quite off.\n",
    "\n",
    "## Loss and Metrics\n",
    "\n",
    "To measure the quality of the model's predictions, we will use the mean squared error (https://en.wikipedia.org/wiki/Mean_squared_error), summed up over all 30 keypoint locations. In PyTorch, the mean squared error is defined in `torch.nn.MSELoss()`, and we can use it like this:"
   ]
  },
  {
   "cell_type": "code",
   "execution_count": null,
   "metadata": {},
   "outputs": [],
   "source": [
    "loss_fn = torch.nn.MSELoss()\n",
    "for i in range(3):\n",
    "    image = train_dataset[i][\"image\"]\n",
    "    keypoints = train_dataset[i][\"keypoints\"]\n",
    "    predicted_keypoints = torch.squeeze(dummy_model(image)).view(15,2)\n",
    "    loss = loss_fn(keypoints, predicted_keypoints)\n",
    "    print(\"Loss on image %d:\" % i, loss)"
   ]
  },
  {
   "cell_type": "markdown",
   "metadata": {},
   "source": [
    "As expected, our dummy model achieves a loss close to 0 on the first sample, but on all other samples the loss is quite high.\n",
    "\n",
    "To obtain an evaluation score (in the notebook and on the submission server), we will use the following function:"
   ]
  },
  {
   "cell_type": "code",
   "execution_count": null,
   "metadata": {},
   "outputs": [],
   "source": [
    "def evaluate_model(model, dataset):\n",
    "    model.eval()\n",
    "    criterion = torch.nn.MSELoss()\n",
    "    dataloader = DataLoader(dataset, batch_size=1, shuffle=False)\n",
    "    loss = 0\n",
    "    for batch in dataloader:\n",
    "        image, keypoints = batch[\"image\"], batch[\"keypoints\"]\n",
    "        predicted_keypoints = model(image).view(-1,15,2)\n",
    "        loss += criterion(\n",
    "            torch.squeeze(keypoints),\n",
    "            torch.squeeze(predicted_keypoints)\n",
    "        ).item()\n",
    "    return 1.0 / (2 * (loss/len(dataloader)))\n",
    "\n",
    "print(\"Score of the Dummy Model:\", evaluate_model(dummy_model, val_dataset))"
   ]
  },
  {
   "cell_type": "markdown",
   "metadata": {},
   "source": [
    "**To pass the assignment, you will need to achieve a score of at least 100**. As you can see, the score is calculated from the average loss, so **your average loss needs to be lower than 0.005**. Our dummy model only gets a score of around 60, so you will have to come up with a better model."
   ]
  },
  {
   "cell_type": "markdown",
   "metadata": {},
   "source": [
    "## Step 1: Design your own model\n",
    "\n",
    "<div class=\"alert alert-info\">\n",
    "    <h3>Task: Implement</h3>\n",
    "    <p> Now it is your turn to build your own model. To do so, you need to design a convolution neural network that takes images of size (Nx1x96x96) as input and produces outputs of shape (Nx30) in the range [-1,1]. Therefore, implement the <code>KeypointModel</code> class in <code>exercise_code/networks/keypoint_nn.py</code>.\n",
    "    </p>\n",
    "</div>\n",
    "\n",
    "Recall that CNN's are defined by a few types of layers:\n",
    "* Convolution layers\n",
    "* Max-pooling layers\n",
    "* Fully-connected layers\n",
    "\n",
    "You can design your network however you want, but we strongly suggest to include multiple convolution layers. You are also encouraged to use things like dropout and batch normalization to stabilize and regularize your network. If you want to build a really competitive model, have a look at some literature on keypoint detection, such as [this paper](https://arxiv.org/pdf/1710.00977.pdf).\n",
    "\n",
    "#### Define your model in the provided file \n",
    "`exercise_code/classifiers/keypoint_nn.py` file\n",
    "\n",
    "This file is mostly empty but contains the expected class name, and the methods that your model needs to implement (only `forward()` basically). You are also free to decide whether you want to use PyTorch Lightning or not.\n",
    "The only rules your model design has to follow are:\n",
    "* Inherit from either `torch.nn.Module` or `pytorch_lightning.LightningModule`\n",
    "* Perform the forward pass in forward(), predicting keypoints of shape (Nx30) for images of shape (Nx1x96x96)\n",
    "* Have less than 5 million parameters\n",
    "* Have a model size of less than 20MB after saving\n",
    "\n",
    "Furthermore, you need to pass all your hyperparameters to the model in a single dictionary:"
   ]
  },
  {
   "cell_type": "code",
   "execution_count": null,
   "metadata": {},
   "outputs": [],
   "source": [
    "hparams = {\n",
    "    #\"hidden\": 1\n",
    "}  "
   ]
  },
  {
   "cell_type": "markdown",
   "metadata": {},
   "source": [
    "To test whether your model follows the basic rules, run the following cell:"
   ]
  },
  {
   "cell_type": "code",
   "execution_count": null,
   "metadata": {},
   "outputs": [],
   "source": [
    "model = KeypointModel(hparams)\n",
    "test_keypoint_nn(model)"
   ]
  },
  {
   "cell_type": "markdown",
   "metadata": {},
   "source": [
    "## Step 2: Train your model\n",
    "\n",
    "<div class=\"alert alert-info\">\n",
    "    <h3>Task: Implement</h3>\n",
    "    <p> In addition to the network itself, you will also need to write the code for the model training. You can use PyTorch Lightning for that, or you can also write it yourself in standard PyTorch.\n",
    "    </p>\n",
    "</div>\n",
    "\n",
    "**Hints:**\n",
    "* Use `torch.nn.MSELoss()` as loss function\n",
    "* Have a look at the previous notebooks for PyTorch and PyTorch Lightning in exercises 7 and 8 if you feel lost. In particular, revise `1_Cifar10_PytorchLightning.ipynb` in the optional submission from Week 7."
   ]
  },
  {
   "cell_type": "code",
   "execution_count": null,
   "metadata": {},
   "outputs": [],
   "source": [
    "model = KeypointModel(hparams)\n",
    "test_keypoint_nn(model)"
   ]
  },
  {
   "cell_type": "code",
   "execution_count": null,
   "metadata": {},
   "outputs": [],
   "source": [
    "import torch.optim as optim\n",
    "\n",
    "criterion = torch.nn.MSELoss()\n",
    "optimizer = torch.optim.Adam(model.parameters(), lr=0.001)\n",
    "lr_scheduler = torch.optim.lr_scheduler.MultiStepLR(optimizer, milestones=[150, 180], gamma=0.1)\n",
    "batch_size = 20\n",
    "train_dataloader = DataLoader(train_dataset, batch_size=batch_size, shuffle=True)\n",
    "val_dataloader = DataLoader(val_dataset, batch_size=batch_size, shuffle=False)\n",
    "len(train_dataloader)"
   ]
  },
  {
   "cell_type": "code",
   "execution_count": null,
   "metadata": {
    "scrolled": true
   },
   "outputs": [],
   "source": [
    "import torch.nn as nn\n",
    "def initialize_weight(module):\n",
    "    if isinstance(module, (nn.Conv2d)):\n",
    "        nn.init.kaiming_normal_(module.weight)\n",
    "    elif isinstance(module, (nn.Linear, nn.Conv2d)):\n",
    "        nn.init.kaiming_normal_(module.weight)   \n",
    "    elif isinstance(module, nn.BatchNorm2d):\n",
    "        nn.init.constant_(module.weight, 1)\n",
    "        nn.init.constant_(module.bias, 0)\n",
    "        \n",
    "model.apply(initialize_weight)"
   ]
  },
  {
   "cell_type": "code",
   "execution_count": null,
   "metadata": {},
   "outputs": [],
   "source": [
    "def run_epoch(model, optimizer, dataloader, train):\n",
    "    \n",
    "    if train:\n",
    "        model.train()\n",
    "    else:\n",
    "        model.eval()\n",
    "    \n",
    "    \n",
    "    running_loss = 0.0\n",
    "    #epoch_score = 0.0\n",
    "   \n",
    "    for data in dataloader:\n",
    "        image, keypoints = data[\"image\"], data[\"keypoints\"]\n",
    "        image.to(device)\n",
    "        keypoints.to(device)\n",
    "       \n",
    "        # forward\n",
    "        \n",
    "        if train:\n",
    "            optimizer.zero_grad()\n",
    "        \n",
    "        with torch.set_grad_enabled(True):\n",
    "            predicted_keypoints = model(image).view(-1,15,2)\n",
    "            loss = criterion(\n",
    "                   torch.squeeze(keypoints),\n",
    "                   torch.squeeze(predicted_keypoints))\n",
    "           \n",
    "            if train:\n",
    "            # backward\n",
    "                loss.backward()\n",
    "                optimizer.step()\n",
    "           \n",
    "        # statistics\n",
    "        running_loss += loss.item()\n",
    "   \n",
    "    running_loss = running_loss / (len(dataloader) * batch_size)\n",
    "    return running_loss"
   ]
  },
  {
   "cell_type": "code",
   "execution_count": null,
   "metadata": {},
   "outputs": [],
   "source": [
    "import copy\n",
    "train_loss_history = []\n",
    "val_loss_history = []\n",
    "\n",
    "def fit(model, optimizer,lr_scheduler, train_dataloader, val_dataloader, max_epochs, patience): #lr_scheduler, patience\n",
    "    \n",
    "\n",
    "    best_loss = 10\n",
    "    \n",
    "    for epoch in range(max_epochs):\n",
    "        train_loss = run_epoch(model, optimizer, train_dataloader, train=True)\n",
    "        lr_scheduler.step()\n",
    "        val_loss = run_epoch(model, None, val_dataloader, train=False)\n",
    "        #print(\"Epoch: \", epoch, \"train loss: %.2e\", train_loss, \"val loss: %.2e\", val_loss)\n",
    "        train_loss_history.append(train_loss)\n",
    "        val_loss_history.append(val_loss)\n",
    "        \n",
    "        print(\"[Epoch %d, train loss: %.2e, val loss: %.2e\" % (epoch+1, train_loss, val_loss))\n",
    "        if val_loss <= best_loss:\n",
    "            best_epoch = epoch\n",
    "            best_loss = val_loss\n",
    "            best_model_weights = copy.deepcopy(model.state_dict())\n",
    "                \n",
    "        # Early stopping\n",
    "        if epoch - best_epoch >= patience:\n",
    "            break\n",
    "            \n",
    "    model.load_state_dict(best_model_weights)"
   ]
  },
  {
   "cell_type": "code",
   "execution_count": null,
   "metadata": {},
   "outputs": [],
   "source": [
    "fit(model, optimizer,lr_scheduler, train_dataloader, val_dataloader, max_epochs=200, patience=25)\n",
    "#lr_scheduler"
   ]
  },
  {
   "cell_type": "code",
   "execution_count": null,
   "metadata": {},
   "outputs": [],
   "source": [
    "import matplotlib.pyplot as plt\n",
    "plt.plot(train_loss_history)\n",
    "plt.plot(val_loss_history)\n",
    "plt.title(\"Loss\")\n",
    "plt.xlabel('iteration')\n",
    "plt.ylabel('loss')\n",
    "plt.legend(['loss'])\n",
    "plt.show()"
   ]
  },
  {
   "cell_type": "markdown",
   "metadata": {},
   "source": [
    "When you're done training, run the cells below to visualize some predictions of your model, and to compute a validation score:"
   ]
  },
  {
   "cell_type": "code",
   "execution_count": null,
   "metadata": {},
   "outputs": [],
   "source": [
    "def show_keypoint_predictions2(model, dataset, num_samples=3):\n",
    "    for i in range(num_samples):\n",
    "        image = dataset[i][\"image\"]\n",
    "        image = image.view(1,1,96,96)\n",
    "        #print(image.shape)\n",
    "        key_pts = dataset[i][\"keypoints\"]\n",
    "        #print(key_pts)\n",
    "        predicted_keypoints = torch.squeeze(model(image).detach()).view(15,2)\n",
    "        show_all_keypoints(image, key_pts, predicted_keypoints)"
   ]
  },
  {
   "cell_type": "code",
   "execution_count": null,
   "metadata": {},
   "outputs": [],
   "source": [
    "show_keypoint_predictions2(model, val_dataset)"
   ]
  },
  {
   "cell_type": "code",
   "execution_count": null,
   "metadata": {},
   "outputs": [],
   "source": [
    "print(\"Score:\", evaluate_model(model, val_dataset))"
   ]
  },
  {
   "cell_type": "markdown",
   "metadata": {},
   "source": [
    "# 3. Save Your Model for Submission\n",
    "\n",
    "If your model achieved a validation score of 100 or higher, save your model with the cell below and submit it to [the submission server](https://dvl.in.tum.de/teaching/submission/). Your validation set is of course different from the test set on our server, so results may vary. Nevertheless, you will have a reasonable close approximation about your performance.\n",
    "\n",
    "Before that, we will check again whether the number of parameters is below 5 Mio. and the file size is below 20 MB."
   ]
  },
  {
   "cell_type": "code",
   "execution_count": null,
   "metadata": {},
   "outputs": [],
   "source": [
    "save_model(model, \"facial_keypoints.p\")"
   ]
  },
  {
   "cell_type": "markdown",
   "metadata": {},
   "source": [
    "Congrats - you've now finished your first Convolution Neural Network! Simply run the following cell to create a zipped file for your implementations."
   ]
  },
  {
   "cell_type": "code",
   "execution_count": null,
   "metadata": {},
   "outputs": [],
   "source": [
    "# Now zip the folder for upload\n",
    "from exercise_code.util.submit import submit_exercise\n",
    "\n",
    "submit_exercise('exercise09')"
   ]
  },
  {
   "cell_type": "markdown",
   "metadata": {},
   "source": [
    "# Submission Goals\n",
    "\n",
    "- Goal: Implement and train a convolution neural network for facial keypoint detection.\n",
    "- Passing Criteria: Reach **Score >= 100** on __our__ test dataset. The submission system will show you your score after you submit.\n",
    "\n",
    "- Submission start: __Thursday, January 21, 2021 - 13:00__\n",
    "- Submission deadline: __Wednesday, January 27, 2021 - 15:59__ \n",
    "- You can make **$\\infty$** submissions until the deadline. Your __best submission__ will be considered for bonus"
   ]
  }
 ],
 "metadata": {
  "kernelspec": {
   "display_name": "Python 3",
   "language": "python",
   "name": "python3"
  },
  "language_info": {
   "codemirror_mode": {
    "name": "ipython",
    "version": 3
   },
   "file_extension": ".py",
   "mimetype": "text/x-python",
   "name": "python",
   "nbconvert_exporter": "python",
   "pygments_lexer": "ipython3",
   "version": "3.6.12"
  }
 },
 "nbformat": 4,
 "nbformat_minor": 2
}
